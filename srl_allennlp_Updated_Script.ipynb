{
  "nbformat": 4,
  "nbformat_minor": 0,
  "metadata": {
    "colab": {
      "name": "srl_allennlp_Updated Script.ipynb",
      "version": "0.3.2",
      "provenance": [],
      "collapsed_sections": []
    },
    "kernelspec": {
      "name": "python3",
      "display_name": "Python 3"
    },
    "accelerator": "GPU"
  },
  "cells": [
    {
      "metadata": {
        "id": "__RRqObfcpvq",
        "colab_type": "code",
        "outputId": "ae759506-4f5c-4bf2-84c3-86dbd550189f",
        "colab": {
          "base_uri": "https://localhost:8080/",
          "height": 3046
        }
      },
      "cell_type": "code",
      "source": [
        "!pip install allennlp"
      ],
      "execution_count": 1,
      "outputs": [
        {
          "output_type": "stream",
          "text": [
            "Collecting allennlp\n",
            "\u001b[?25l  Downloading https://files.pythonhosted.org/packages/a4/c8/10342a6068a8d156a5947e03c95525d559e71ad62de0f2585ab922e14533/allennlp-0.8.3-py3-none-any.whl (5.6MB)\n",
            "\u001b[K    100% |████████████████████████████████| 5.6MB 1.3MB/s \n",
            "\u001b[?25hRequirement already satisfied: scikit-learn in /usr/local/lib/python3.6/dist-packages (from allennlp) (0.20.3)\n",
            "Requirement already satisfied: pytest in /usr/local/lib/python3.6/dist-packages (from allennlp) (3.6.4)\n",
            "Requirement already satisfied: gevent>=1.3.6 in /usr/local/lib/python3.6/dist-packages (from allennlp) (1.4.0)\n",
            "Collecting numpydoc>=0.8.0 (from allennlp)\n",
            "  Downloading https://files.pythonhosted.org/packages/95/a8/b4706a6270f0475541c5c1ee3373c7a3b793936ec1f517f1a1dab4f896c0/numpydoc-0.8.0.tar.gz\n",
            "Collecting moto>=1.3.4 (from allennlp)\n",
            "\u001b[?25l  Downloading https://files.pythonhosted.org/packages/57/40/cec89fa5c13108eb1c8de435633f8b7639e0e43fcbcdc8ac52633efeeabe/moto-1.3.7-py2.py3-none-any.whl (552kB)\n",
            "\u001b[K    100% |████████████████████████████████| 552kB 26.0MB/s \n",
            "\u001b[?25hCollecting tensorboardX>=1.2 (from allennlp)\n",
            "\u001b[?25l  Downloading https://files.pythonhosted.org/packages/5c/76/89dd44458eb976347e5a6e75eb79fecf8facd46c1ce259bad54e0044ea35/tensorboardX-1.6-py2.py3-none-any.whl (129kB)\n",
            "\u001b[K    100% |████████████████████████████████| 133kB 23.5MB/s \n",
            "\u001b[?25hRequirement already satisfied: sqlparse>=0.2.4 in /usr/local/lib/python3.6/dist-packages (from allennlp) (0.3.0)\n",
            "Collecting unidecode (from allennlp)\n",
            "\u001b[?25l  Downloading https://files.pythonhosted.org/packages/31/39/53096f9217b057cb049fe872b7fc7ce799a1a89b76cf917d9639e7a558b5/Unidecode-1.0.23-py2.py3-none-any.whl (237kB)\n",
            "\u001b[K    100% |████████████████████████████████| 245kB 29.0MB/s \n",
            "\u001b[?25hCollecting awscli>=1.11.91 (from allennlp)\n",
            "\u001b[?25l  Downloading https://files.pythonhosted.org/packages/59/1d/5b4de9d75639ccced6cf4d837f0e7a8c2ad7512efddf5b5ef78e87736c97/awscli-1.16.139-py2.py3-none-any.whl (1.5MB)\n",
            "\u001b[K    100% |████████████████████████████████| 1.5MB 16.7MB/s \n",
            "\u001b[?25hCollecting pytorch-pretrained-bert>=0.6.0 (from allennlp)\n",
            "\u001b[?25l  Downloading https://files.pythonhosted.org/packages/5d/3c/d5fa084dd3a82ffc645aba78c417e6072ff48552e3301b1fa3bd711e03d4/pytorch_pretrained_bert-0.6.1-py3-none-any.whl (114kB)\n",
            "\u001b[K    100% |████████████████████████████████| 122kB 31.9MB/s \n",
            "\u001b[?25hRequirement already satisfied: requests>=2.18 in /usr/local/lib/python3.6/dist-packages (from allennlp) (2.18.4)\n",
            "Collecting conllu==0.11 (from allennlp)\n",
            "  Downloading https://files.pythonhosted.org/packages/d4/2c/856344d9b69baf5b374c395b4286626181a80f0c2b2f704914d18a1cea47/conllu-0.11-py2.py3-none-any.whl\n",
            "Collecting flask-cors>=3.0.7 (from allennlp)\n",
            "  Downloading https://files.pythonhosted.org/packages/65/cb/683f71ff8daa3aea0a5cbb276074de39f9ab66d3fbb8ad5efb5bb83e90d2/Flask_Cors-3.0.7-py2.py3-none-any.whl\n",
            "Requirement already satisfied: editdistance in /usr/local/lib/python3.6/dist-packages (from allennlp) (0.5.3)\n",
            "Requirement already satisfied: scipy in /usr/local/lib/python3.6/dist-packages (from allennlp) (1.1.0)\n",
            "Collecting word2number>=1.1 (from allennlp)\n",
            "  Downloading https://files.pythonhosted.org/packages/4a/29/a31940c848521f0725f0df6b25dca8917f13a2025b0e8fcbe5d0457e45e6/word2number-1.1.zip\n",
            "Collecting ftfy (from allennlp)\n",
            "\u001b[?25l  Downloading https://files.pythonhosted.org/packages/8f/86/df789c5834f15ae1ca53a8d4c1fc4788676c2e32112f6a786f2625d9c6e6/ftfy-5.5.1-py3-none-any.whl (43kB)\n",
            "\u001b[K    100% |████████████████████████████████| 51kB 21.1MB/s \n",
            "\u001b[?25hRequirement already satisfied: boto3 in /usr/local/lib/python3.6/dist-packages (from allennlp) (1.9.127)\n",
            "Requirement already satisfied: h5py in /usr/local/lib/python3.6/dist-packages (from allennlp) (2.8.0)\n",
            "Collecting jsonnet>=0.10.0; sys_platform != \"win32\" (from allennlp)\n",
            "\u001b[?25l  Downloading https://files.pythonhosted.org/packages/60/dc/3abd3971869a741d7acdba166d71d4f9366b6b53028dfd56f95de356af0f/jsonnet-0.12.1.tar.gz (240kB)\n",
            "\u001b[K    100% |████████████████████████████████| 245kB 16.2MB/s \n",
            "\u001b[?25hCollecting responses>=0.7 (from allennlp)\n",
            "  Downloading https://files.pythonhosted.org/packages/d1/5a/b887e89925f1de7890ef298a74438371ed4ed29b33def9e6d02dc6036fd8/responses-0.10.6-py2.py3-none-any.whl\n",
            "Collecting flaky (from allennlp)\n",
            "  Downloading https://files.pythonhosted.org/packages/02/42/cca66659a786567c8af98587d66d75e7d2b6e65662f8daab75db708ac35b/flaky-3.5.3-py2.py3-none-any.whl\n",
            "Requirement already satisfied: torch>=0.4.1 in /usr/local/lib/python3.6/dist-packages (from allennlp) (1.0.1.post2)\n",
            "Collecting parsimonious>=0.8.0 (from allennlp)\n",
            "\u001b[?25l  Downloading https://files.pythonhosted.org/packages/02/fc/067a3f89869a41009e1a7cdfb14725f8ddd246f30f63c645e8ef8a1c56f4/parsimonious-0.8.1.tar.gz (45kB)\n",
            "\u001b[K    100% |████████████████████████████████| 51kB 18.8MB/s \n",
            "\u001b[?25hRequirement already satisfied: numpy in /usr/local/lib/python3.6/dist-packages (from allennlp) (1.14.6)\n",
            "Requirement already satisfied: pytz>=2017.3 in /usr/local/lib/python3.6/dist-packages (from allennlp) (2018.9)\n",
            "Requirement already satisfied: matplotlib>=2.2.3 in /usr/local/lib/python3.6/dist-packages (from allennlp) (3.0.3)\n",
            "Requirement already satisfied: msgpack<0.6.0,>=0.5.6 in /usr/local/lib/python3.6/dist-packages (from allennlp) (0.5.6)\n",
            "Collecting overrides (from allennlp)\n",
            "  Downloading https://files.pythonhosted.org/packages/de/55/3100c6d14c1ed177492fcf8f07c4a7d2d6c996c0a7fc6a9a0a41308e7eec/overrides-1.9.tar.gz\n",
            "Requirement already satisfied: nltk in /usr/local/lib/python3.6/dist-packages (from allennlp) (3.2.5)\n",
            "Requirement already satisfied: tqdm>=4.19 in /usr/local/lib/python3.6/dist-packages (from allennlp) (4.28.1)\n",
            "Requirement already satisfied: spacy<2.2,>=2.0 in /usr/local/lib/python3.6/dist-packages (from allennlp) (2.0.18)\n",
            "Requirement already satisfied: flask>=1.0.2 in /usr/local/lib/python3.6/dist-packages (from allennlp) (1.0.2)\n",
            "Requirement already satisfied: atomicwrites>=1.0 in /usr/local/lib/python3.6/dist-packages (from pytest->allennlp) (1.3.0)\n",
            "Requirement already satisfied: setuptools in /usr/local/lib/python3.6/dist-packages (from pytest->allennlp) (40.8.0)\n",
            "Requirement already satisfied: attrs>=17.4.0 in /usr/local/lib/python3.6/dist-packages (from pytest->allennlp) (19.1.0)\n",
            "Requirement already satisfied: pluggy<0.8,>=0.5 in /usr/local/lib/python3.6/dist-packages (from pytest->allennlp) (0.7.1)\n",
            "Requirement already satisfied: six>=1.10.0 in /usr/local/lib/python3.6/dist-packages (from pytest->allennlp) (1.11.0)\n",
            "Requirement already satisfied: more-itertools>=4.0.0 in /usr/local/lib/python3.6/dist-packages (from pytest->allennlp) (7.0.0)\n",
            "Requirement already satisfied: py>=1.5.0 in /usr/local/lib/python3.6/dist-packages (from pytest->allennlp) (1.8.0)\n",
            "Requirement already satisfied: greenlet>=0.4.14; platform_python_implementation == \"CPython\" in /usr/local/lib/python3.6/dist-packages (from gevent>=1.3.6->allennlp) (0.4.15)\n",
            "Requirement already satisfied: sphinx>=1.2.3 in /usr/local/lib/python3.6/dist-packages (from numpydoc>=0.8.0->allennlp) (1.8.5)\n",
            "Requirement already satisfied: Jinja2>=2.3 in /usr/local/lib/python3.6/dist-packages (from numpydoc>=0.8.0->allennlp) (2.10)\n",
            "Collecting docker>=2.5.1 (from moto>=1.3.4->allennlp)\n",
            "\u001b[?25l  Downloading https://files.pythonhosted.org/packages/48/68/c3afca1a5aa8d2997ec3b8ee822a4d752cf85907b321f07ea86888545152/docker-3.7.2-py2.py3-none-any.whl (134kB)\n",
            "\u001b[K    100% |████████████████████████████████| 143kB 28.9MB/s \n",
            "\u001b[?25hCollecting aws-xray-sdk<0.96,>=0.93 (from moto>=1.3.4->allennlp)\n",
            "\u001b[?25l  Downloading https://files.pythonhosted.org/packages/a4/a5/da7887285564f9e0ae5cd25a453cca36e2cd43d8ccc9effde260b4d80904/aws_xray_sdk-0.95-py2.py3-none-any.whl (52kB)\n",
            "\u001b[K    100% |████████████████████████████████| 61kB 24.2MB/s \n",
            "\u001b[?25hCollecting pyaml (from moto>=1.3.4->allennlp)\n",
            "  Downloading https://files.pythonhosted.org/packages/c5/e1/1523fb1dab744e2c6b1f02446f2139a78726c18c062a8ddd53875abb20f8/pyaml-18.11.0-py2.py3-none-any.whl\n",
            "Requirement already satisfied: mock in /usr/local/lib/python3.6/dist-packages (from moto>=1.3.4->allennlp) (2.0.0)\n",
            "Requirement already satisfied: boto>=2.36.0 in /usr/local/lib/python3.6/dist-packages (from moto>=1.3.4->allennlp) (2.49.0)\n",
            "Requirement already satisfied: python-dateutil<3.0.0,>=2.1 in /usr/local/lib/python3.6/dist-packages (from moto>=1.3.4->allennlp) (2.5.3)\n",
            "Requirement already satisfied: werkzeug in /usr/local/lib/python3.6/dist-packages (from moto>=1.3.4->allennlp) (0.15.2)\n",
            "Collecting python-jose<3.0.0 (from moto>=1.3.4->allennlp)\n",
            "  Downloading https://files.pythonhosted.org/packages/bf/5c/5fa238c0c5b0656994b52721dd8b1d7bf52ebd8786518dde794f44de86b6/python_jose-2.0.2-py2.py3-none-any.whl\n",
            "Collecting cryptography>=2.3.0 (from moto>=1.3.4->allennlp)\n",
            "\u001b[?25l  Downloading https://files.pythonhosted.org/packages/5b/12/b0409a94dad366d98a8eee2a77678c7a73aafd8c0e4b835abea634ea3896/cryptography-2.6.1-cp34-abi3-manylinux1_x86_64.whl (2.3MB)\n",
            "\u001b[K    100% |████████████████████████████████| 2.3MB 15.8MB/s \n",
            "\u001b[?25hCollecting xmltodict (from moto>=1.3.4->allennlp)\n",
            "  Downloading https://files.pythonhosted.org/packages/28/fd/30d5c1d3ac29ce229f6bdc40bbc20b28f716e8b363140c26eff19122d8a5/xmltodict-0.12.0-py2.py3-none-any.whl\n",
            "Collecting jsondiff==1.1.1 (from moto>=1.3.4->allennlp)\n",
            "  Downloading https://files.pythonhosted.org/packages/bd/5f/13e28a2f9abeda2ffb3f44f2f809b01b52bc02cdb63816e05b8c9cbbdfc5/jsondiff-1.1.1.tar.gz\n",
            "Requirement already satisfied: botocore>=1.12.13 in /usr/local/lib/python3.6/dist-packages (from moto>=1.3.4->allennlp) (1.12.127)\n",
            "Requirement already satisfied: protobuf>=3.2.0 in /usr/local/lib/python3.6/dist-packages (from tensorboardX>=1.2->allennlp) (3.7.1)\n",
            "Collecting colorama<=0.3.9,>=0.2.5 (from awscli>=1.11.91->allennlp)\n",
            "  Downloading https://files.pythonhosted.org/packages/db/c8/7dcf9dbcb22429512708fe3a547f8b6101c0d02137acbd892505aee57adf/colorama-0.3.9-py2.py3-none-any.whl\n",
            "Collecting rsa<=3.5.0,>=3.1.2 (from awscli>=1.11.91->allennlp)\n",
            "\u001b[?25l  Downloading https://files.pythonhosted.org/packages/e1/ae/baedc9cb175552e95f3395c43055a6a5e125ae4d48a1d7a924baca83e92e/rsa-3.4.2-py2.py3-none-any.whl (46kB)\n",
            "\u001b[K    100% |████████████████████████████████| 51kB 13.9MB/s \n",
            "\u001b[?25hRequirement already satisfied: s3transfer<0.3.0,>=0.2.0 in /usr/local/lib/python3.6/dist-packages (from awscli>=1.11.91->allennlp) (0.2.0)\n",
            "Requirement already satisfied: docutils>=0.10 in /usr/local/lib/python3.6/dist-packages (from awscli>=1.11.91->allennlp) (0.14)\n",
            "Requirement already satisfied: PyYAML<=3.13,>=3.10 in /usr/local/lib/python3.6/dist-packages (from awscli>=1.11.91->allennlp) (3.13)\n",
            "Requirement already satisfied: regex in /usr/local/lib/python3.6/dist-packages (from pytorch-pretrained-bert>=0.6.0->allennlp) (2018.1.10)\n",
            "Requirement already satisfied: certifi>=2017.4.17 in /usr/local/lib/python3.6/dist-packages (from requests>=2.18->allennlp) (2019.3.9)\n",
            "Requirement already satisfied: idna<2.7,>=2.5 in /usr/local/lib/python3.6/dist-packages (from requests>=2.18->allennlp) (2.6)\n",
            "Requirement already satisfied: urllib3<1.23,>=1.21.1 in /usr/local/lib/python3.6/dist-packages (from requests>=2.18->allennlp) (1.22)\n",
            "Requirement already satisfied: chardet<3.1.0,>=3.0.2 in /usr/local/lib/python3.6/dist-packages (from requests>=2.18->allennlp) (3.0.4)\n",
            "Requirement already satisfied: wcwidth in /usr/local/lib/python3.6/dist-packages (from ftfy->allennlp) (0.1.7)\n",
            "Requirement already satisfied: jmespath<1.0.0,>=0.7.1 in /usr/local/lib/python3.6/dist-packages (from boto3->allennlp) (0.9.4)\n",
            "Requirement already satisfied: kiwisolver>=1.0.1 in /usr/local/lib/python3.6/dist-packages (from matplotlib>=2.2.3->allennlp) (1.0.1)\n",
            "Requirement already satisfied: pyparsing!=2.0.4,!=2.1.2,!=2.1.6,>=2.0.1 in /usr/local/lib/python3.6/dist-packages (from matplotlib>=2.2.3->allennlp) (2.3.1)\n",
            "Requirement already satisfied: cycler>=0.10 in /usr/local/lib/python3.6/dist-packages (from matplotlib>=2.2.3->allennlp) (0.10.0)\n",
            "Requirement already satisfied: murmurhash<1.1.0,>=0.28.0 in /usr/local/lib/python3.6/dist-packages (from spacy<2.2,>=2.0->allennlp) (1.0.2)\n",
            "Requirement already satisfied: preshed<2.1.0,>=2.0.1 in /usr/local/lib/python3.6/dist-packages (from spacy<2.2,>=2.0->allennlp) (2.0.1)\n",
            "Requirement already satisfied: ujson>=1.35 in /usr/local/lib/python3.6/dist-packages (from spacy<2.2,>=2.0->allennlp) (1.35)\n",
            "Requirement already satisfied: cymem<2.1.0,>=2.0.2 in /usr/local/lib/python3.6/dist-packages (from spacy<2.2,>=2.0->allennlp) (2.0.2)\n",
            "Requirement already satisfied: thinc<6.13.0,>=6.12.1 in /usr/local/lib/python3.6/dist-packages (from spacy<2.2,>=2.0->allennlp) (6.12.1)\n",
            "Requirement already satisfied: dill<0.3,>=0.2 in /usr/local/lib/python3.6/dist-packages (from spacy<2.2,>=2.0->allennlp) (0.2.9)\n",
            "Requirement already satisfied: plac<1.0.0,>=0.9.6 in /usr/local/lib/python3.6/dist-packages (from spacy<2.2,>=2.0->allennlp) (0.9.6)\n",
            "Requirement already satisfied: itsdangerous>=0.24 in /usr/local/lib/python3.6/dist-packages (from flask>=1.0.2->allennlp) (1.1.0)\n",
            "Requirement already satisfied: click>=5.1 in /usr/local/lib/python3.6/dist-packages (from flask>=1.0.2->allennlp) (7.0)\n",
            "Requirement already satisfied: snowballstemmer>=1.1 in /usr/local/lib/python3.6/dist-packages (from sphinx>=1.2.3->numpydoc>=0.8.0->allennlp) (1.2.1)\n",
            "Requirement already satisfied: alabaster<0.8,>=0.7 in /usr/local/lib/python3.6/dist-packages (from sphinx>=1.2.3->numpydoc>=0.8.0->allennlp) (0.7.12)\n",
            "Requirement already satisfied: sphinxcontrib-websupport in /usr/local/lib/python3.6/dist-packages (from sphinx>=1.2.3->numpydoc>=0.8.0->allennlp) (1.1.0)\n",
            "Requirement already satisfied: imagesize in /usr/local/lib/python3.6/dist-packages (from sphinx>=1.2.3->numpydoc>=0.8.0->allennlp) (1.1.0)\n",
            "Requirement already satisfied: babel!=2.0,>=1.3 in /usr/local/lib/python3.6/dist-packages (from sphinx>=1.2.3->numpydoc>=0.8.0->allennlp) (2.6.0)\n",
            "Requirement already satisfied: packaging in /usr/local/lib/python3.6/dist-packages (from sphinx>=1.2.3->numpydoc>=0.8.0->allennlp) (19.0)\n",
            "Requirement already satisfied: Pygments>=2.0 in /usr/local/lib/python3.6/dist-packages (from sphinx>=1.2.3->numpydoc>=0.8.0->allennlp) (2.1.3)\n",
            "Requirement already satisfied: MarkupSafe>=0.23 in /usr/local/lib/python3.6/dist-packages (from Jinja2>=2.3->numpydoc>=0.8.0->allennlp) (1.1.1)\n",
            "Collecting docker-pycreds>=0.4.0 (from docker>=2.5.1->moto>=1.3.4->allennlp)\n",
            "  Downloading https://files.pythonhosted.org/packages/f5/e8/f6bd1eee09314e7e6dee49cbe2c5e22314ccdb38db16c9fc72d2fa80d054/docker_pycreds-0.4.0-py2.py3-none-any.whl\n",
            "Collecting websocket-client>=0.32.0 (from docker>=2.5.1->moto>=1.3.4->allennlp)\n",
            "\u001b[?25l  Downloading https://files.pythonhosted.org/packages/29/19/44753eab1fdb50770ac69605527e8859468f3c0fd7dc5a76dd9c4dbd7906/websocket_client-0.56.0-py2.py3-none-any.whl (200kB)\n",
            "\u001b[K    100% |████████████████████████████████| 204kB 28.7MB/s \n",
            "\u001b[?25hRequirement already satisfied: wrapt in /usr/local/lib/python3.6/dist-packages (from aws-xray-sdk<0.96,>=0.93->moto>=1.3.4->allennlp) (1.10.11)\n",
            "Collecting jsonpickle (from aws-xray-sdk<0.96,>=0.93->moto>=1.3.4->allennlp)\n",
            "  Downloading https://files.pythonhosted.org/packages/dc/12/8c44eabb501e2bc0aec0dd152b328074d98a50968d3a02be28f6037f0c6a/jsonpickle-1.1-py2.py3-none-any.whl\n",
            "Requirement already satisfied: pbr>=0.11 in /usr/local/lib/python3.6/dist-packages (from mock->moto>=1.3.4->allennlp) (5.1.3)\n",
            "Collecting pycryptodome<4.0.0,>=3.3.1 (from python-jose<3.0.0->moto>=1.3.4->allennlp)\n",
            "\u001b[?25l  Downloading https://files.pythonhosted.org/packages/06/fc/b09816d7b2d79d6454f75b40def94a89ed785d8d8d07840563f1084c6ecd/pycryptodome-3.8.1-cp36-cp36m-manylinux1_x86_64.whl (9.7MB)\n",
            "\u001b[K    100% |████████████████████████████████| 9.7MB 5.2MB/s \n",
            "\u001b[?25hRequirement already satisfied: future<1.0 in /usr/local/lib/python3.6/dist-packages (from python-jose<3.0.0->moto>=1.3.4->allennlp) (0.16.0)\n",
            "Collecting ecdsa<1.0 (from python-jose<3.0.0->moto>=1.3.4->allennlp)\n",
            "\u001b[?25l  Downloading https://files.pythonhosted.org/packages/63/f4/73669d51825516ce8c43b816c0a6b64cd6eb71d08b99820c00792cb42222/ecdsa-0.13-py2.py3-none-any.whl (86kB)\n",
            "\u001b[K    100% |████████████████████████████████| 92kB 27.5MB/s \n",
            "\u001b[?25hCollecting asn1crypto>=0.21.0 (from cryptography>=2.3.0->moto>=1.3.4->allennlp)\n",
            "\u001b[?25l  Downloading https://files.pythonhosted.org/packages/ea/cd/35485615f45f30a510576f1a56d1e0a7ad7bd8ab5ed7cdc600ef7cd06222/asn1crypto-0.24.0-py2.py3-none-any.whl (101kB)\n",
            "\u001b[K    100% |████████████████████████████████| 102kB 27.8MB/s \n",
            "\u001b[?25hRequirement already satisfied: cffi!=1.11.3,>=1.8 in /usr/local/lib/python3.6/dist-packages (from cryptography>=2.3.0->moto>=1.3.4->allennlp) (1.12.2)\n",
            "Requirement already satisfied: pyasn1>=0.1.3 in /usr/local/lib/python3.6/dist-packages (from rsa<=3.5.0,>=3.1.2->awscli>=1.11.91->allennlp) (0.4.5)\n",
            "Requirement already satisfied: cytoolz<0.10,>=0.9.0 in /usr/local/lib/python3.6/dist-packages (from thinc<6.13.0,>=6.12.1->spacy<2.2,>=2.0->allennlp) (0.9.0.1)\n",
            "Requirement already satisfied: msgpack-numpy<0.4.4 in /usr/local/lib/python3.6/dist-packages (from thinc<6.13.0,>=6.12.1->spacy<2.2,>=2.0->allennlp) (0.4.3.2)\n",
            "Requirement already satisfied: pycparser in /usr/local/lib/python3.6/dist-packages (from cffi!=1.11.3,>=1.8->cryptography>=2.3.0->moto>=1.3.4->allennlp) (2.19)\n",
            "Requirement already satisfied: toolz>=0.8.0 in /usr/local/lib/python3.6/dist-packages (from cytoolz<0.10,>=0.9.0->thinc<6.13.0,>=6.12.1->spacy<2.2,>=2.0->allennlp) (0.9.0)\n",
            "Building wheels for collected packages: numpydoc, word2number, jsonnet, parsimonious, overrides, jsondiff\n",
            "  Building wheel for numpydoc (setup.py) ... \u001b[?25ldone\n",
            "\u001b[?25h  Stored in directory: /root/.cache/pip/wheels/ea/55/7f/3e25d754760ccd62d6796e5b2cfe25629346f52ea00753d549\n",
            "  Building wheel for word2number (setup.py) ... \u001b[?25ldone\n",
            "\u001b[?25h  Stored in directory: /root/.cache/pip/wheels/46/2f/53/5f5c1d275492f2fce1cdab9a9bb12d49286dead829a4078e0e\n",
            "  Building wheel for jsonnet (setup.py) ... \u001b[?25ldone\n",
            "\u001b[?25h  Stored in directory: /root/.cache/pip/wheels/f0/47/51/a178b15274ed0db775a1ae9c799ce31e511609c3ab75a7dec5\n",
            "  Building wheel for parsimonious (setup.py) ... \u001b[?25ldone\n",
            "\u001b[?25h  Stored in directory: /root/.cache/pip/wheels/b7/8d/e7/a0e74217da5caeb3c1c7689639b6d28ddbf9985b840bc96a9a\n",
            "  Building wheel for overrides (setup.py) ... \u001b[?25ldone\n",
            "\u001b[?25h  Stored in directory: /root/.cache/pip/wheels/8d/52/86/e5a83b1797e7d263b458d2334edd2704c78508b3eea9323718\n",
            "  Building wheel for jsondiff (setup.py) ... \u001b[?25ldone\n",
            "\u001b[?25h  Stored in directory: /root/.cache/pip/wheels/68/08/07/69d839606fb7fdc778fa86476abc0a864693d45969a0c1936c\n",
            "Successfully built numpydoc word2number jsonnet parsimonious overrides jsondiff\n",
            "\u001b[31mawscli 1.16.139 has requirement botocore==1.12.129, but you'll have botocore 1.12.127 which is incompatible.\u001b[0m\n",
            "Installing collected packages: numpydoc, docker-pycreds, websocket-client, docker, jsonpickle, aws-xray-sdk, pyaml, pycryptodome, ecdsa, python-jose, asn1crypto, cryptography, xmltodict, responses, jsondiff, moto, tensorboardX, unidecode, colorama, rsa, awscli, pytorch-pretrained-bert, conllu, flask-cors, word2number, ftfy, jsonnet, flaky, parsimonious, overrides, allennlp\n",
            "  Found existing installation: rsa 4.0\n",
            "    Uninstalling rsa-4.0:\n",
            "      Successfully uninstalled rsa-4.0\n",
            "Successfully installed allennlp-0.8.3 asn1crypto-0.24.0 aws-xray-sdk-0.95 awscli-1.16.139 colorama-0.3.9 conllu-0.11 cryptography-2.6.1 docker-3.7.2 docker-pycreds-0.4.0 ecdsa-0.13 flaky-3.5.3 flask-cors-3.0.7 ftfy-5.5.1 jsondiff-1.1.1 jsonnet-0.12.1 jsonpickle-1.1 moto-1.3.7 numpydoc-0.8.0 overrides-1.9 parsimonious-0.8.1 pyaml-18.11.0 pycryptodome-3.8.1 python-jose-2.0.2 pytorch-pretrained-bert-0.6.1 responses-0.10.6 rsa-3.4.2 tensorboardX-1.6 unidecode-1.0.23 websocket-client-0.56.0 word2number-1.1 xmltodict-0.12.0\n"
          ],
          "name": "stdout"
        },
        {
          "output_type": "display_data",
          "data": {
            "application/vnd.colab-display-data+json": {
              "pip_warning": {
                "packages": [
                  "rsa"
                ]
              }
            }
          },
          "metadata": {
            "tags": []
          }
        }
      ]
    },
    {
      "metadata": {
        "id": "AwsX_PgucdIx",
        "colab_type": "code",
        "outputId": "db9c55df-e10c-4610-86bc-ba03f2ce85c3",
        "colab": {
          "base_uri": "https://localhost:8080/",
          "height": 34
        }
      },
      "cell_type": "code",
      "source": [
        "from allennlp.models import Model"
      ],
      "execution_count": 2,
      "outputs": [
        {
          "output_type": "stream",
          "text": [
            "Better speed can be achieved with apex installed from https://www.github.com/nvidia/apex.\n"
          ],
          "name": "stdout"
        }
      ]
    },
    {
      "metadata": {
        "id": "t1Hnpbx5ciCz",
        "colab_type": "code",
        "outputId": "26c477b7-cf26-439d-f2b8-a00bc3a85270",
        "colab": {
          "resources": {
            "http://localhost:8080/nbextensions/google.colab/files.js": {
              "data": "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",
              "ok": true,
              "headers": [
                [
                  "content-type",
                  "application/javascript"
                ]
              ],
              "status": 200,
              "status_text": ""
            }
          },
          "base_uri": "https://localhost:8080/",
          "height": 74
        }
      },
      "cell_type": "code",
      "source": [
        "from google.colab import  files\n",
        "uploaded = files.upload()"
      ],
      "execution_count": 3,
      "outputs": [
        {
          "output_type": "display_data",
          "data": {
            "text/html": [
              "\n",
              "     <input type=\"file\" id=\"files-cb1543e5-3636-4ee5-bfa4-06b2f5306359\" name=\"files[]\" multiple disabled />\n",
              "     <output id=\"result-cb1543e5-3636-4ee5-bfa4-06b2f5306359\">\n",
              "      Upload widget is only available when the cell has been executed in the\n",
              "      current browser session. Please rerun this cell to enable.\n",
              "      </output>\n",
              "      <script src=\"/nbextensions/google.colab/files.js\"></script> "
            ],
            "text/plain": [
              "<IPython.core.display.HTML object>"
            ]
          },
          "metadata": {
            "tags": []
          }
        },
        {
          "output_type": "stream",
          "text": [
            "Saving allennlp_srl.py to allennlp_srl.py\n"
          ],
          "name": "stdout"
        }
      ]
    },
    {
      "metadata": {
        "id": "sB_CzvXjfAvY",
        "colab_type": "code",
        "outputId": "1971f280-6251-49c3-8e15-dbb5b9223541",
        "colab": {
          "resources": {
            "http://localhost:8080/nbextensions/google.colab/files.js": {
              "data": "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",
              "ok": true,
              "headers": [
                [
                  "content-type",
                  "application/javascript"
                ]
              ],
              "status": 200,
              "status_text": ""
            }
          },
          "base_uri": "https://localhost:8080/",
          "height": 91
        }
      },
      "cell_type": "code",
      "source": [
        "from google.colab import  files\n",
        "uploaded = files.upload()\n",
        "'''json file like:\n",
        "Which NFL team represented the AFC at Super Bowl 50?\n",
        "Where did Super Bowl 50 take place?'''"
      ],
      "execution_count": 4,
      "outputs": [
        {
          "output_type": "display_data",
          "data": {
            "text/html": [
              "\n",
              "     <input type=\"file\" id=\"files-7dd7738b-8614-4b45-b74e-b1412496bb6b\" name=\"files[]\" multiple disabled />\n",
              "     <output id=\"result-7dd7738b-8614-4b45-b74e-b1412496bb6b\">\n",
              "      Upload widget is only available when the cell has been executed in the\n",
              "      current browser session. Please rerun this cell to enable.\n",
              "      </output>\n",
              "      <script src=\"/nbextensions/google.colab/files.js\"></script> "
            ],
            "text/plain": [
              "<IPython.core.display.HTML object>"
            ]
          },
          "metadata": {
            "tags": []
          }
        },
        {
          "output_type": "stream",
          "text": [
            "Saving example.json to example.json\n"
          ],
          "name": "stdout"
        },
        {
          "output_type": "execute_result",
          "data": {
            "text/plain": [
              "'json file like:\\nWhich NFL team represented the AFC at Super Bowl 50?\\nWhere did Super Bowl 50 take place?'"
            ]
          },
          "metadata": {
            "tags": []
          },
          "execution_count": 4
        }
      ]
    },
    {
      "metadata": {
        "id": "560Z0i1Dh1zV",
        "colab_type": "code",
        "outputId": "109ed539-58db-4d7c-e9c0-d3063b668f2f",
        "colab": {
          "base_uri": "https://localhost:8080/",
          "height": 204
        }
      },
      "cell_type": "code",
      "source": [
        "!wget https://s3-us-west-2.amazonaws.com/allennlp/models/srl-model-2017.09.05.tar.gz"
      ],
      "execution_count": 5,
      "outputs": [
        {
          "output_type": "stream",
          "text": [
            "--2019-04-05 00:48:49--  https://s3-us-west-2.amazonaws.com/allennlp/models/srl-model-2017.09.05.tar.gz\n",
            "Resolving s3-us-west-2.amazonaws.com (s3-us-west-2.amazonaws.com)... 52.218.208.0\n",
            "Connecting to s3-us-west-2.amazonaws.com (s3-us-west-2.amazonaws.com)|52.218.208.0|:443... connected.\n",
            "HTTP request sent, awaiting response... 200 OK\n",
            "Length: 54202400 (52M) [application/x-tar]\n",
            "Saving to: ‘srl-model-2017.09.05.tar.gz’\n",
            "\n",
            "srl-model-2017.09.0 100%[===================>]  51.69M  16.3MB/s    in 3.2s    \n",
            "\n",
            "2019-04-05 00:48:53 (16.3 MB/s) - ‘srl-model-2017.09.05.tar.gz’ saved [54202400/54202400]\n",
            "\n"
          ],
          "name": "stdout"
        }
      ]
    },
    {
      "metadata": {
        "id": "NVCHRPuWh7Ls",
        "colab_type": "code",
        "outputId": "32bcb403-83d1-4b4c-d0e2-9d98f9a692de",
        "colab": {
          "base_uri": "https://localhost:8080/",
          "height": 34
        }
      },
      "cell_type": "code",
      "source": [
        "ls"
      ],
      "execution_count": 6,
      "outputs": [
        {
          "output_type": "stream",
          "text": [
            "allennlp_srl.py  example.json  \u001b[0m\u001b[01;34msample_data\u001b[0m/  srl-model-2017.09.05.tar.gz\n"
          ],
          "name": "stdout"
        }
      ]
    },
    {
      "metadata": {
        "id": "P6DDVGwDj1bR",
        "colab_type": "code",
        "colab": {}
      },
      "cell_type": "code",
      "source": [
        "#delete file\n",
        "#!rm allennlp_srl.py"
      ],
      "execution_count": 0,
      "outputs": []
    },
    {
      "metadata": {
        "id": "SiqGpjRieIYl",
        "colab_type": "code",
        "outputId": "5e029e3c-830c-47f9-fbc3-4afb341b5f67",
        "colab": {
          "base_uri": "https://localhost:8080/",
          "height": 2604
        }
      },
      "cell_type": "code",
      "source": [
        "! python allennlp_srl.py \\\n",
        "    https://s3-us-west-2.amazonaws.com/allennlp/models/srl-model-2018.02.27.tar.gz \\\n",
        "    example.json"
      ],
      "execution_count": 8,
      "outputs": [
        {
          "output_type": "stream",
          "text": [
            "Better speed can be achieved with apex installed from https://www.github.com/nvidia/apex.\n",
            "allennlp_srl.py:18: FutureWarning: allennlp.service.predictors.* has been deprecated. Please use allennlp.predictors.*\n",
            "  \" Please use allennlp.predictors.*\", FutureWarning)\n",
            "100% 54204041/54204041 [00:04<00:00, 12743138.91B/s]\n",
            "Did not use initialization regex that was passed: encoder\\\\._module.layer_0\\\\.input_linearity\\\\.weight\n",
            "Did not use initialization regex that was passed: encoder\\\\._module.layer_.*bias\n",
            "Did not use initialization regex that was passed: encoder\\\\._module\\\\.layer_0\\\\.state_linearity\\\\.weight\n",
            "input:  {'sentence': 'Which NFL team represented the AFC at Super Bowl 50?'}\n",
            "prediction:  {\"verbs\": [{\"verb\": \"represented\", \"description\": \"[ARG0: Which NFL team] [V: represented] [ARG1: the AFC] [ARGM-LOC: at Super Bowl 50] ?\", \"tags\": [\"B-ARG0\", \"I-ARG0\", \"I-ARG0\", \"B-V\", \"B-ARG1\", \"I-ARG1\", \"B-ARGM-LOC\", \"I-ARGM-LOC\", \"I-ARGM-LOC\", \"I-ARGM-LOC\", \"O\"]}], \"words\": [\"Which\", \"NFL\", \"team\", \"represented\", \"the\", \"AFC\", \"at\", \"Super\", \"Bowl\", \"50\", \"?\"]}\n",
            "\n",
            "input:  {'sentence': 'Where did Super Bowl 50 take place?'}\n",
            "prediction:  {\"verbs\": [{\"verb\": \"did\", \"description\": \"Where [V: did] Super Bowl 50 take place ?\", \"tags\": [\"O\", \"B-V\", \"O\", \"O\", \"O\", \"O\", \"O\", \"O\"]}, {\"verb\": \"take\", \"description\": \"[ARGM-LOC: Where] did [ARG1: Super Bowl 50] [V: take] [ARG2: place] ?\", \"tags\": [\"B-ARGM-LOC\", \"O\", \"B-ARG1\", \"I-ARG1\", \"I-ARG1\", \"B-V\", \"B-ARG2\", \"O\"]}], \"words\": [\"Where\", \"did\", \"Super\", \"Bowl\", \"50\", \"take\", \"place\", \"?\"]}\n",
            "\n",
            "input:  {'sentence': 'Which NFL team won Super Bowl 50?'}\n",
            "prediction:  {\"verbs\": [{\"verb\": \"won\", \"description\": \"[ARG0: Which NFL team] [V: won] [ARG1: Super Bowl 50] ?\", \"tags\": [\"B-ARG0\", \"I-ARG0\", \"I-ARG0\", \"B-V\", \"B-ARG1\", \"I-ARG1\", \"I-ARG1\", \"O\"]}], \"words\": [\"Which\", \"NFL\", \"team\", \"won\", \"Super\", \"Bowl\", \"50\", \"?\"]}\n",
            "\n",
            "input:  {'sentence': 'What color was used to emphasize the 50th anniversary of the Super Bowl?'}\n",
            "prediction:  {\"verbs\": [{\"verb\": \"was\", \"description\": \"What color [V: was] used to emphasize the 50th anniversary of the Super Bowl ?\", \"tags\": [\"O\", \"O\", \"B-V\", \"O\", \"O\", \"O\", \"O\", \"O\", \"O\", \"O\", \"O\", \"O\", \"O\", \"O\"]}, {\"verb\": \"used\", \"description\": \"[ARG1: What color] was [V: used] [ARG2: to emphasize the 50th anniversary of the Super Bowl] ?\", \"tags\": [\"B-ARG1\", \"I-ARG1\", \"O\", \"B-V\", \"B-ARG2\", \"I-ARG2\", \"I-ARG2\", \"I-ARG2\", \"I-ARG2\", \"I-ARG2\", \"I-ARG2\", \"I-ARG2\", \"I-ARG2\", \"O\"]}, {\"verb\": \"emphasize\", \"description\": \"What color was used to [V: emphasize] [ARG1: the 50th anniversary of the Super Bowl] ?\", \"tags\": [\"O\", \"O\", \"O\", \"O\", \"O\", \"B-V\", \"B-ARG1\", \"I-ARG1\", \"I-ARG1\", \"I-ARG1\", \"I-ARG1\", \"I-ARG1\", \"I-ARG1\", \"O\"]}], \"words\": [\"What\", \"color\", \"was\", \"used\", \"to\", \"emphasize\", \"the\", \"50th\", \"anniversary\", \"of\", \"the\", \"Super\", \"Bowl\", \"?\"]}\n",
            "\n",
            "input:  {'sentence': 'What was the theme of Super Bowl 50?'}\n",
            "prediction:  {\"verbs\": [{\"verb\": \"was\", \"description\": \"[ARG2: What] [V: was] [ARG1: the theme of Super Bowl 50] ?\", \"tags\": [\"B-ARG2\", \"B-V\", \"B-ARG1\", \"I-ARG1\", \"I-ARG1\", \"I-ARG1\", \"I-ARG1\", \"I-ARG1\", \"O\"]}], \"words\": [\"What\", \"was\", \"the\", \"theme\", \"of\", \"Super\", \"Bowl\", \"50\", \"?\"]}\n",
            "\n",
            "input:  {'sentence': 'What day was the game played on?'}\n",
            "prediction:  {\"verbs\": [{\"verb\": \"was\", \"description\": \"What day [V: was] the game played on ?\", \"tags\": [\"O\", \"O\", \"B-V\", \"O\", \"O\", \"O\", \"O\", \"O\"]}, {\"verb\": \"played\", \"description\": \"[ARGM-TMP: What day] was [ARG1: the game] [V: played] on ?\", \"tags\": [\"B-ARGM-TMP\", \"I-ARGM-TMP\", \"O\", \"B-ARG1\", \"I-ARG1\", \"B-V\", \"O\", \"O\"]}], \"words\": [\"What\", \"day\", \"was\", \"the\", \"game\", \"played\", \"on\", \"?\"]}\n",
            "\n",
            "input:  {'sentence': 'What is the AFC short for?'}\n",
            "prediction:  {\"verbs\": [{\"verb\": \"is\", \"description\": \"What [V: is] [ARG1: the AFC] [ARG2: short for] ?\", \"tags\": [\"O\", \"B-V\", \"B-ARG1\", \"I-ARG1\", \"B-ARG2\", \"I-ARG2\", \"O\"]}], \"words\": [\"What\", \"is\", \"the\", \"AFC\", \"short\", \"for\", \"?\"]}\n",
            "\n",
            "input:  {'sentence': 'What was the theme of Super Bowl 50?'}\n",
            "prediction:  {\"verbs\": [{\"verb\": \"was\", \"description\": \"[ARG2: What] [V: was] [ARG1: the theme of Super Bowl 50] ?\", \"tags\": [\"B-ARG2\", \"B-V\", \"B-ARG1\", \"I-ARG1\", \"I-ARG1\", \"I-ARG1\", \"I-ARG1\", \"I-ARG1\", \"O\"]}], \"words\": [\"What\", \"was\", \"the\", \"theme\", \"of\", \"Super\", \"Bowl\", \"50\", \"?\"]}\n",
            "\n",
            "input:  {'sentence': 'What does AFC stand for?'}\n",
            "prediction:  {\"verbs\": [{\"verb\": \"does\", \"description\": \"What [V: does] AFC stand for ?\", \"tags\": [\"O\", \"B-V\", \"O\", \"O\", \"O\", \"O\"]}, {\"verb\": \"stand\", \"description\": \"What does [ARG0: AFC] [V: stand] [ARG2: for] ?\", \"tags\": [\"O\", \"O\", \"B-ARG0\", \"B-V\", \"B-ARG2\", \"O\"]}], \"words\": [\"What\", \"does\", \"AFC\", \"stand\", \"for\", \"?\"]}\n",
            "\n",
            "input:  {'sentence': 'What day was the Super Bowl played on?'}\n",
            "prediction:  {\"verbs\": [{\"verb\": \"was\", \"description\": \"What day [V: was] the Super Bowl played on ?\", \"tags\": [\"O\", \"O\", \"B-V\", \"O\", \"O\", \"O\", \"O\", \"O\", \"O\"]}, {\"verb\": \"played\", \"description\": \"[ARGM-TMP: What day] was [ARG0: the Super Bowl] [V: played] on ?\", \"tags\": [\"B-ARGM-TMP\", \"I-ARGM-TMP\", \"O\", \"B-ARG0\", \"I-ARG0\", \"I-ARG0\", \"B-V\", \"O\", \"O\"]}], \"words\": [\"What\", \"day\", \"was\", \"the\", \"Super\", \"Bowl\", \"played\", \"on\", \"?\"]}\n",
            "\n",
            "input:  {'sentence': 'Who won Super Bowl 50?'}\n",
            "prediction:  {\"verbs\": [{\"verb\": \"won\", \"description\": \"[ARG0: Who] [V: won] [ARG1: Super Bowl 50] ?\", \"tags\": [\"B-ARG0\", \"B-V\", \"B-ARG1\", \"I-ARG1\", \"I-ARG1\", \"O\"]}], \"words\": [\"Who\", \"won\", \"Super\", \"Bowl\", \"50\", \"?\"]}\n",
            "\n",
            "input:  {'sentence': 'What venue did Super Bowl 50 take place in?'}\n",
            "prediction:  {\"verbs\": [{\"verb\": \"did\", \"description\": \"What venue [V: did] Super Bowl 50 take place in ?\", \"tags\": [\"O\", \"O\", \"B-V\", \"O\", \"O\", \"O\", \"O\", \"O\", \"O\", \"O\"]}, {\"verb\": \"take\", \"description\": \"What venue did [ARG0: Super Bowl 50] [V: take] [ARG2: place] [ARGM-LOC: in] ?\", \"tags\": [\"O\", \"O\", \"O\", \"B-ARG0\", \"I-ARG0\", \"I-ARG0\", \"B-V\", \"B-ARG2\", \"B-ARGM-LOC\", \"O\"]}], \"words\": [\"What\", \"venue\", \"did\", \"Super\", \"Bowl\", \"50\", \"take\", \"place\", \"in\", \"?\"]}\n",
            "\n",
            "input:  {'sentence': 'The accused stood motionless, nothing on his face betrayed any emotion.'}\n",
            "prediction:  {\"verbs\": [{\"verb\": \"accused\", \"description\": \"The [V: accused] stood motionless , nothing on his face betrayed any emotion .\", \"tags\": [\"O\", \"B-V\", \"O\", \"O\", \"O\", \"O\", \"O\", \"O\", \"O\", \"O\", \"O\", \"O\", \"O\"]}, {\"verb\": \"stood\", \"description\": \"[ARG1: The accused] [V: stood] [ARG2: motionless] , nothing on his face betrayed any emotion .\", \"tags\": [\"B-ARG1\", \"I-ARG1\", \"B-V\", \"B-ARG2\", \"O\", \"O\", \"O\", \"O\", \"O\", \"O\", \"O\", \"O\", \"O\"]}, {\"verb\": \"betrayed\", \"description\": \"The accused stood motionless , [ARG0: nothing on his face] [V: betrayed] [ARG1: any emotion] .\", \"tags\": [\"O\", \"O\", \"O\", \"O\", \"O\", \"B-ARG0\", \"I-ARG0\", \"I-ARG0\", \"I-ARG0\", \"B-V\", \"B-ARG1\", \"I-ARG1\", \"O\"]}], \"words\": [\"The\", \"accused\", \"stood\", \"motionless\", \",\", \"nothing\", \"on\", \"his\", \"face\", \"betrayed\", \"any\", \"emotion\", \".\"]}\n",
            "\n",
            "input:  {'sentence': 'It was this same lack of expression that had worried the attorney assigned to represent the man throughout the case.'}\n",
            "prediction:  {\"verbs\": [{\"verb\": \"was\", \"description\": \"It [V: was] [ARG2: this same lack of expression] [ARG1: that had worried the attorney assigned to represent the man throughout the case] .\", \"tags\": [\"O\", \"B-V\", \"B-ARG2\", \"I-ARG2\", \"I-ARG2\", \"I-ARG2\", \"I-ARG2\", \"B-ARG1\", \"I-ARG1\", \"I-ARG1\", \"I-ARG1\", \"I-ARG1\", \"I-ARG1\", \"I-ARG1\", \"I-ARG1\", \"I-ARG1\", \"I-ARG1\", \"I-ARG1\", \"I-ARG1\", \"I-ARG1\", \"O\"]}, {\"verb\": \"had\", \"description\": \"It was this same lack of expression that [V: had] worried the attorney assigned to represent the man throughout the case .\", \"tags\": [\"O\", \"O\", \"O\", \"O\", \"O\", \"O\", \"O\", \"O\", \"B-V\", \"O\", \"O\", \"O\", \"O\", \"O\", \"O\", \"O\", \"O\", \"O\", \"O\", \"O\", \"O\"]}, {\"verb\": \"worried\", \"description\": \"It was [ARG0: this same lack of expression] [R-ARG0: that] had [V: worried] [ARG1: the attorney assigned to represent the man throughout the case] .\", \"tags\": [\"O\", \"O\", \"B-ARG0\", \"I-ARG0\", \"I-ARG0\", \"I-ARG0\", \"I-ARG0\", \"B-R-ARG0\", \"O\", \"B-V\", \"B-ARG1\", \"I-ARG1\", \"I-ARG1\", \"I-ARG1\", \"I-ARG1\", \"I-ARG1\", \"I-ARG1\", \"I-ARG1\", \"I-ARG1\", \"I-ARG1\", \"O\"]}, {\"verb\": \"assigned\", \"description\": \"It was this same lack of expression that had worried [ARG0: the attorney] [V: assigned] [ARG2: to represent the man throughout the case] .\", \"tags\": [\"O\", \"O\", \"O\", \"O\", \"O\", \"O\", \"O\", \"O\", \"O\", \"O\", \"B-ARG0\", \"I-ARG0\", \"B-V\", \"B-ARG2\", \"I-ARG2\", \"I-ARG2\", \"I-ARG2\", \"I-ARG2\", \"I-ARG2\", \"I-ARG2\", \"O\"]}, {\"verb\": \"represent\", \"description\": \"It was this same lack of expression that had worried [ARG0: the attorney] assigned to [V: represent] [ARG1: the man] [ARGM-LOC: throughout the case] .\", \"tags\": [\"O\", \"O\", \"O\", \"O\", \"O\", \"O\", \"O\", \"O\", \"O\", \"O\", \"B-ARG0\", \"I-ARG0\", \"O\", \"O\", \"B-V\", \"B-ARG1\", \"I-ARG1\", \"B-ARGM-LOC\", \"I-ARGM-LOC\", \"I-ARGM-LOC\", \"O\"]}], \"words\": [\"It\", \"was\", \"this\", \"same\", \"lack\", \"of\", \"expression\", \"that\", \"had\", \"worried\", \"the\", \"attorney\", \"assigned\", \"to\", \"represent\", \"the\", \"man\", \"throughout\", \"the\", \"case\", \".\"]}\n",
            "\n",
            "input:  {'sentence': 'Charged with robbing an elderly woman and beating her to death, the defendant had shown no remorse, indeed he had seemed completely unconcerned even when faced with the crime photos.'}\n",
            "prediction:  {\"verbs\": [{\"verb\": \"Charged\", \"description\": \"[V: Charged] [ARG2: with robbing an elderly woman] and beating her to death , [ARG1: the defendant] had shown no remorse , indeed he had seemed completely unconcerned even when faced with the crime photos .\", \"tags\": [\"B-V\", \"B-ARG2\", \"I-ARG2\", \"I-ARG2\", \"I-ARG2\", \"I-ARG2\", \"O\", \"O\", \"O\", \"O\", \"O\", \"O\", \"B-ARG1\", \"I-ARG1\", \"O\", \"O\", \"O\", \"O\", \"O\", \"O\", \"O\", \"O\", \"O\", \"O\", \"O\", \"O\", \"O\", \"O\", \"O\", \"O\", \"O\", \"O\", \"O\"]}, {\"verb\": \"robbing\", \"description\": \"Charged with [V: robbing] [ARG1: an elderly woman] and beating her to death , [ARG0: the defendant] had shown no remorse , indeed he had seemed completely unconcerned even when faced with the crime photos .\", \"tags\": [\"O\", \"O\", \"B-V\", \"B-ARG1\", \"I-ARG1\", \"I-ARG1\", \"O\", \"O\", \"O\", \"O\", \"O\", \"O\", \"B-ARG0\", \"I-ARG0\", \"O\", \"O\", \"O\", \"O\", \"O\", \"O\", \"O\", \"O\", \"O\", \"O\", \"O\", \"O\", \"O\", \"O\", \"O\", \"O\", \"O\", \"O\", \"O\"]}, {\"verb\": \"beating\", \"description\": \"Charged with robbing an elderly woman and [V: beating] [ARG1: her] [ARG2: to death] , [ARG0: the defendant] had shown no remorse , indeed he had seemed completely unconcerned even when faced with the crime photos .\", \"tags\": [\"O\", \"O\", \"O\", \"O\", \"O\", \"O\", \"O\", \"B-V\", \"B-ARG1\", \"B-ARG2\", \"I-ARG2\", \"O\", \"B-ARG0\", \"I-ARG0\", \"O\", \"O\", \"O\", \"O\", \"O\", \"O\", \"O\", \"O\", \"O\", \"O\", \"O\", \"O\", \"O\", \"O\", \"O\", \"O\", \"O\", \"O\", \"O\"]}, {\"verb\": \"had\", \"description\": \"Charged with robbing an elderly woman and beating her to death , the defendant [V: had] shown no remorse , indeed he had seemed completely unconcerned even when faced with the crime photos .\", \"tags\": [\"O\", \"O\", \"O\", \"O\", \"O\", \"O\", \"O\", \"O\", \"O\", \"O\", \"O\", \"O\", \"O\", \"O\", \"B-V\", \"O\", \"O\", \"O\", \"O\", \"O\", \"O\", \"O\", \"O\", \"O\", \"O\", \"O\", \"O\", \"O\", \"O\", \"O\", \"O\", \"O\", \"O\"]}, {\"verb\": \"shown\", \"description\": \"[ARGM-ADV: Charged with robbing an elderly woman and beating her to death] , [ARG0: the defendant] had [V: shown] [ARG1: no remorse] , indeed he had seemed completely unconcerned even when faced with the crime photos .\", \"tags\": [\"B-ARGM-ADV\", \"I-ARGM-ADV\", \"I-ARGM-ADV\", \"I-ARGM-ADV\", \"I-ARGM-ADV\", \"I-ARGM-ADV\", \"I-ARGM-ADV\", \"I-ARGM-ADV\", \"I-ARGM-ADV\", \"I-ARGM-ADV\", \"I-ARGM-ADV\", \"O\", \"B-ARG0\", \"I-ARG0\", \"O\", \"B-V\", \"B-ARG1\", \"I-ARG1\", \"O\", \"O\", \"O\", \"O\", \"O\", \"O\", \"O\", \"O\", \"O\", \"O\", \"O\", \"O\", \"O\", \"O\", \"O\"]}, {\"verb\": \"had\", \"description\": \"Charged with robbing an elderly woman and beating her to death , the defendant had shown no remorse , indeed he [V: had] seemed completely unconcerned even when faced with the crime photos .\", \"tags\": [\"O\", \"O\", \"O\", \"O\", \"O\", \"O\", \"O\", \"O\", \"O\", \"O\", \"O\", \"O\", \"O\", \"O\", \"O\", \"O\", \"O\", \"O\", \"O\", \"O\", \"O\", \"B-V\", \"O\", \"O\", \"O\", \"O\", \"O\", \"O\", \"O\", \"O\", \"O\", \"O\", \"O\"]}, {\"verb\": \"seemed\", \"description\": \"Charged with robbing an elderly woman and beating her to death , the defendant had shown no remorse , [ARGM-ADV: indeed] he had [V: seemed] [ARG1: completely unconcerned] [ARGM-TMP: even when faced with the crime photos] .\", \"tags\": [\"O\", \"O\", \"O\", \"O\", \"O\", \"O\", \"O\", \"O\", \"O\", \"O\", \"O\", \"O\", \"O\", \"O\", \"O\", \"O\", \"O\", \"O\", \"O\", \"B-ARGM-ADV\", \"O\", \"O\", \"B-V\", \"B-ARG1\", \"I-ARG1\", \"B-ARGM-TMP\", \"I-ARGM-TMP\", \"I-ARGM-TMP\", \"I-ARGM-TMP\", \"I-ARGM-TMP\", \"I-ARGM-TMP\", \"I-ARGM-TMP\", \"O\"]}, {\"verb\": \"faced\", \"description\": \"Charged with robbing an elderly woman and beating her to death , the defendant had shown no remorse , indeed he had seemed completely unconcerned [ARGM-TMP: even when] [V: faced] [ARG1: with the crime photos] .\", \"tags\": [\"O\", \"O\", \"O\", \"O\", \"O\", \"O\", \"O\", \"O\", \"O\", \"O\", \"O\", \"O\", \"O\", \"O\", \"O\", \"O\", \"O\", \"O\", \"O\", \"O\", \"O\", \"O\", \"O\", \"O\", \"O\", \"B-ARGM-TMP\", \"I-ARGM-TMP\", \"B-V\", \"B-ARG1\", \"I-ARG1\", \"I-ARG1\", \"I-ARG1\", \"O\"]}], \"words\": [\"Charged\", \"with\", \"robbing\", \"an\", \"elderly\", \"woman\", \"and\", \"beating\", \"her\", \"to\", \"death\", \",\", \"the\", \"defendant\", \"had\", \"shown\", \"no\", \"remorse\", \",\", \"indeed\", \"he\", \"had\", \"seemed\", \"completely\", \"unconcerned\", \"even\", \"when\", \"faced\", \"with\", \"the\", \"crime\", \"photos\", \".\"]}\n",
            "\n",
            "input:  {'sentence': \"The lawyer knew his client's demeanor made the jury uncomfortable.\"}\n",
            "prediction:  {\"verbs\": [{\"verb\": \"knew\", \"description\": \"[ARG0: The lawyer] [V: knew] [ARG1: his client 's demeanor made the jury uncomfortable] .\", \"tags\": [\"B-ARG0\", \"I-ARG0\", \"B-V\", \"B-ARG1\", \"I-ARG1\", \"I-ARG1\", \"I-ARG1\", \"I-ARG1\", \"I-ARG1\", \"I-ARG1\", \"I-ARG1\", \"O\"]}, {\"verb\": \"made\", \"description\": \"The lawyer knew [ARG0: his client 's demeanor] [V: made] [ARG1: the jury uncomfortable] .\", \"tags\": [\"O\", \"O\", \"O\", \"B-ARG0\", \"I-ARG0\", \"I-ARG0\", \"I-ARG0\", \"B-V\", \"B-ARG1\", \"I-ARG1\", \"I-ARG1\", \"O\"]}], \"words\": [\"The\", \"lawyer\", \"knew\", \"his\", \"client\", \"'s\", \"demeanor\", \"made\", \"the\", \"jury\", \"uncomfortable\", \".\"]}\n",
            "\n",
            "input:  {'sentence': 'Hell, it made him uncomfortable, faced with such a blank stare every day.'}\n",
            "prediction:  {\"verbs\": [{\"verb\": \"made\", \"description\": \"[ARGM-MNR: Hell] , [ARG0: it] [V: made] [ARG1: him uncomfortable , faced with such a blank stare every day] .\", \"tags\": [\"B-ARGM-MNR\", \"O\", \"B-ARG0\", \"B-V\", \"B-ARG1\", \"I-ARG1\", \"I-ARG1\", \"I-ARG1\", \"I-ARG1\", \"I-ARG1\", \"I-ARG1\", \"I-ARG1\", \"I-ARG1\", \"I-ARG1\", \"I-ARG1\", \"O\"]}, {\"verb\": \"faced\", \"description\": \"Hell , it made him uncomfortable , [V: faced] [ARG0: with such a blank stare] [ARGM-TMP: every day] .\", \"tags\": [\"O\", \"O\", \"O\", \"O\", \"O\", \"O\", \"O\", \"B-V\", \"B-ARG0\", \"I-ARG0\", \"I-ARG0\", \"I-ARG0\", \"I-ARG0\", \"B-ARGM-TMP\", \"I-ARGM-TMP\", \"O\"]}], \"words\": [\"Hell\", \",\", \"it\", \"made\", \"him\", \"uncomfortable\", \",\", \"faced\", \"with\", \"such\", \"a\", \"blank\", \"stare\", \"every\", \"day\", \".\"]}\n",
            "\n",
            "input:  {'sentence': 'Professionally, Hal knew that there was a marked lack of hard evidence against his client.'}\n",
            "prediction:  {\"verbs\": [{\"verb\": \"knew\", \"description\": \"[ARGM-DIS: Professionally] , [ARG0: Hal] [V: knew] [ARG1: that there was a marked lack of hard evidence against his client] .\", \"tags\": [\"B-ARGM-DIS\", \"O\", \"B-ARG0\", \"B-V\", \"B-ARG1\", \"I-ARG1\", \"I-ARG1\", \"I-ARG1\", \"I-ARG1\", \"I-ARG1\", \"I-ARG1\", \"I-ARG1\", \"I-ARG1\", \"I-ARG1\", \"I-ARG1\", \"I-ARG1\", \"O\"]}, {\"verb\": \"was\", \"description\": \"Professionally , Hal knew that there [V: was] [ARG1: a marked lack of hard evidence against his client] .\", \"tags\": [\"O\", \"O\", \"O\", \"O\", \"O\", \"O\", \"B-V\", \"B-ARG1\", \"I-ARG1\", \"I-ARG1\", \"I-ARG1\", \"I-ARG1\", \"I-ARG1\", \"I-ARG1\", \"I-ARG1\", \"I-ARG1\", \"O\"]}], \"words\": [\"Professionally\", \",\", \"Hal\", \"knew\", \"that\", \"there\", \"was\", \"a\", \"marked\", \"lack\", \"of\", \"hard\", \"evidence\", \"against\", \"his\", \"client\", \".\"]}\n",
            "\n",
            "input:  {'sentence': 'The most damning thing during the whole proceeding had been a witness who identified David Rawlins as fleeing the scene.'}\n",
            "prediction:  {\"verbs\": [{\"verb\": \"had\", \"description\": \"The most damning thing during the whole proceeding [V: had] been a witness who identified David Rawlins as fleeing the scene .\", \"tags\": [\"O\", \"O\", \"O\", \"O\", \"O\", \"O\", \"O\", \"O\", \"B-V\", \"O\", \"O\", \"O\", \"O\", \"O\", \"O\", \"O\", \"O\", \"O\", \"O\", \"O\", \"O\"]}, {\"verb\": \"been\", \"description\": \"[ARG1: The most damning thing during the whole proceeding] had [V: been] [ARG2: a witness who identified David Rawlins as fleeing the scene] .\", \"tags\": [\"B-ARG1\", \"I-ARG1\", \"I-ARG1\", \"I-ARG1\", \"I-ARG1\", \"I-ARG1\", \"I-ARG1\", \"I-ARG1\", \"O\", \"B-V\", \"B-ARG2\", \"I-ARG2\", \"I-ARG2\", \"I-ARG2\", \"I-ARG2\", \"I-ARG2\", \"I-ARG2\", \"I-ARG2\", \"I-ARG2\", \"I-ARG2\", \"O\"]}, {\"verb\": \"identified\", \"description\": \"The most damning thing during the whole proceeding had been [ARG0: a witness] [R-ARG0: who] [V: identified] [ARG1: David Rawlins] [ARG2: as fleeing the scene] .\", \"tags\": [\"O\", \"O\", \"O\", \"O\", \"O\", \"O\", \"O\", \"O\", \"O\", \"O\", \"B-ARG0\", \"I-ARG0\", \"B-R-ARG0\", \"B-V\", \"B-ARG1\", \"I-ARG1\", \"B-ARG2\", \"I-ARG2\", \"I-ARG2\", \"I-ARG2\", \"O\"]}, {\"verb\": \"fleeing\", \"description\": \"The most damning thing during the whole proceeding had been a witness who identified [ARG0: David Rawlins] as [V: fleeing] [ARG1: the scene] .\", \"tags\": [\"O\", \"O\", \"O\", \"O\", \"O\", \"O\", \"O\", \"O\", \"O\", \"O\", \"O\", \"O\", \"O\", \"O\", \"B-ARG0\", \"I-ARG0\", \"O\", \"B-V\", \"B-ARG1\", \"I-ARG1\", \"O\"]}], \"words\": [\"The\", \"most\", \"damning\", \"thing\", \"during\", \"the\", \"whole\", \"proceeding\", \"had\", \"been\", \"a\", \"witness\", \"who\", \"identified\", \"David\", \"Rawlins\", \"as\", \"fleeing\", \"the\", \"scene\", \".\"]}\n",
            "\n",
            "input:  {'sentence': \"Hal had been able to cast doubt on the witness's testimony because the man had just left a bar.\"}\n",
            "prediction:  {\"verbs\": [{\"verb\": \"had\", \"description\": \"Hal [V: had] been able to cast doubt on the witness 's testimony because the man had just left a bar .\", \"tags\": [\"O\", \"B-V\", \"O\", \"O\", \"O\", \"O\", \"O\", \"O\", \"O\", \"O\", \"O\", \"O\", \"O\", \"O\", \"O\", \"O\", \"O\", \"O\", \"O\", \"O\", \"O\"]}, {\"verb\": \"been\", \"description\": \"[ARG1: Hal] had [V: been] [ARG2: able to cast doubt on the witness 's testimony] [ARGM-CAU: because the man had just left a bar] .\", \"tags\": [\"B-ARG1\", \"O\", \"B-V\", \"B-ARG2\", \"I-ARG2\", \"I-ARG2\", \"I-ARG2\", \"I-ARG2\", \"I-ARG2\", \"I-ARG2\", \"I-ARG2\", \"I-ARG2\", \"B-ARGM-CAU\", \"I-ARGM-CAU\", \"I-ARGM-CAU\", \"I-ARGM-CAU\", \"I-ARGM-CAU\", \"I-ARGM-CAU\", \"I-ARGM-CAU\", \"I-ARGM-CAU\", \"O\"]}, {\"verb\": \"cast\", \"description\": \"[ARG0: Hal] had been able to [V: cast] [ARG1: doubt] [ARG2: on the witness 's testimony] because the man had just left a bar .\", \"tags\": [\"B-ARG0\", \"O\", \"O\", \"O\", \"O\", \"B-V\", \"B-ARG1\", \"B-ARG2\", \"I-ARG2\", \"I-ARG2\", \"I-ARG2\", \"I-ARG2\", \"O\", \"O\", \"O\", \"O\", \"O\", \"O\", \"O\", \"O\", \"O\"]}, {\"verb\": \"had\", \"description\": \"Hal had been able to cast doubt on the witness 's testimony because the man [V: had] just left a bar .\", \"tags\": [\"O\", \"O\", \"O\", \"O\", \"O\", \"O\", \"O\", \"O\", \"O\", \"O\", \"O\", \"O\", \"O\", \"O\", \"O\", \"B-V\", \"O\", \"O\", \"O\", \"O\", \"O\"]}, {\"verb\": \"left\", \"description\": \"Hal had been able to cast doubt on the witness 's testimony because [ARG0: the man] had [ARGM-TMP: just] [V: left] [ARG1: a bar] .\", \"tags\": [\"O\", \"O\", \"O\", \"O\", \"O\", \"O\", \"O\", \"O\", \"O\", \"O\", \"O\", \"O\", \"O\", \"B-ARG0\", \"I-ARG0\", \"O\", \"B-ARGM-TMP\", \"B-V\", \"B-ARG1\", \"I-ARG1\", \"O\"]}], \"words\": [\"Hal\", \"had\", \"been\", \"able\", \"to\", \"cast\", \"doubt\", \"on\", \"the\", \"witness\", \"'s\", \"testimony\", \"because\", \"the\", \"man\", \"had\", \"just\", \"left\", \"a\", \"bar\", \".\"]}\n",
            "\n",
            "input:  {'sentence': 'Whoever committed this crime had been smart enough to leave no physical evidence behind.'}\n",
            "prediction:  {\"verbs\": [{\"verb\": \"committed\", \"description\": \"[ARG0: Whoever] [V: committed] [ARG1: this crime] had been smart enough to leave no physical evidence behind .\", \"tags\": [\"B-ARG0\", \"B-V\", \"B-ARG1\", \"I-ARG1\", \"O\", \"O\", \"O\", \"O\", \"O\", \"O\", \"O\", \"O\", \"O\", \"O\", \"O\"]}, {\"verb\": \"had\", \"description\": \"Whoever committed this crime [V: had] been smart enough to leave no physical evidence behind .\", \"tags\": [\"O\", \"O\", \"O\", \"O\", \"B-V\", \"O\", \"O\", \"O\", \"O\", \"O\", \"O\", \"O\", \"O\", \"O\", \"O\"]}, {\"verb\": \"been\", \"description\": \"[ARG1: Whoever committed this crime] had [V: been] [ARG2: smart enough to leave no physical evidence behind] .\", \"tags\": [\"B-ARG1\", \"I-ARG1\", \"I-ARG1\", \"I-ARG1\", \"O\", \"B-V\", \"B-ARG2\", \"I-ARG2\", \"I-ARG2\", \"I-ARG2\", \"I-ARG2\", \"I-ARG2\", \"I-ARG2\", \"I-ARG2\", \"O\"]}, {\"verb\": \"leave\", \"description\": \"[ARG0: Whoever committed this crime] had been smart enough to [V: leave] [ARG1: no physical evidence] [ARGM-LOC: behind] .\", \"tags\": [\"B-ARG0\", \"I-ARG0\", \"I-ARG0\", \"I-ARG0\", \"O\", \"O\", \"O\", \"O\", \"O\", \"B-V\", \"B-ARG1\", \"I-ARG1\", \"I-ARG1\", \"B-ARGM-LOC\", \"O\"]}], \"words\": [\"Whoever\", \"committed\", \"this\", \"crime\", \"had\", \"been\", \"smart\", \"enough\", \"to\", \"leave\", \"no\", \"physical\", \"evidence\", \"behind\", \".\"]}\n",
            "\n",
            "input:  {'sentence': 'It was the same M.O. as four other crimes that had plagued the community in recent months. Hal felt confident that his client would be found not guilty.'}\n",
            "prediction:  {\"verbs\": [{\"verb\": \"was\", \"description\": \"[ARG1: It] [V: was] [ARG2: the same M.O.] [ARGM-PRD: as four other crimes that had plagued the community in recent months] . Hal felt confident that his client would be found not guilty .\", \"tags\": [\"B-ARG1\", \"B-V\", \"B-ARG2\", \"I-ARG2\", \"I-ARG2\", \"B-ARGM-PRD\", \"I-ARGM-PRD\", \"I-ARGM-PRD\", \"I-ARGM-PRD\", \"I-ARGM-PRD\", \"I-ARGM-PRD\", \"I-ARGM-PRD\", \"I-ARGM-PRD\", \"I-ARGM-PRD\", \"I-ARGM-PRD\", \"I-ARGM-PRD\", \"I-ARGM-PRD\", \"O\", \"O\", \"O\", \"O\", \"O\", \"O\", \"O\", \"O\", \"O\", \"O\", \"O\", \"O\", \"O\"]}, {\"verb\": \"had\", \"description\": \"It was the same M.O. as four other crimes that [V: had] plagued the community in recent months . Hal felt confident that his client would be found not guilty .\", \"tags\": [\"O\", \"O\", \"O\", \"O\", \"O\", \"O\", \"O\", \"O\", \"O\", \"O\", \"B-V\", \"O\", \"O\", \"O\", \"O\", \"O\", \"O\", \"O\", \"O\", \"O\", \"O\", \"O\", \"O\", \"O\", \"O\", \"O\", \"O\", \"O\", \"O\", \"O\"]}, {\"verb\": \"plagued\", \"description\": \"It was the same M.O. as [ARG0: four other crimes] [R-ARG0: that] had [V: plagued] [ARG1: the community] [ARGM-TMP: in recent months] . Hal felt confident that his client would be found not guilty .\", \"tags\": [\"O\", \"O\", \"O\", \"O\", \"O\", \"O\", \"B-ARG0\", \"I-ARG0\", \"I-ARG0\", \"B-R-ARG0\", \"O\", \"B-V\", \"B-ARG1\", \"I-ARG1\", \"B-ARGM-TMP\", \"I-ARGM-TMP\", \"I-ARGM-TMP\", \"O\", \"O\", \"O\", \"O\", \"O\", \"O\", \"O\", \"O\", \"O\", \"O\", \"O\", \"O\", \"O\"]}, {\"verb\": \"felt\", \"description\": \"It was the same M.O. as four other crimes that had plagued the community in recent months . [ARG0: Hal] [V: felt] [ARG1: confident that his client would be found not guilty] .\", \"tags\": [\"O\", \"O\", \"O\", \"O\", \"O\", \"O\", \"O\", \"O\", \"O\", \"O\", \"O\", \"O\", \"O\", \"O\", \"O\", \"O\", \"O\", \"O\", \"B-ARG0\", \"B-V\", \"B-ARG1\", \"I-ARG1\", \"I-ARG1\", \"I-ARG1\", \"I-ARG1\", \"I-ARG1\", \"I-ARG1\", \"I-ARG1\", \"I-ARG1\", \"O\"]}, {\"verb\": \"would\", \"description\": \"It was the same M.O. as four other crimes that had plagued the community in recent months . Hal felt confident that [ARG1: his client] [V: would] be found not guilty .\", \"tags\": [\"O\", \"O\", \"O\", \"O\", \"O\", \"O\", \"O\", \"O\", \"O\", \"O\", \"O\", \"O\", \"O\", \"O\", \"O\", \"O\", \"O\", \"O\", \"O\", \"O\", \"O\", \"O\", \"B-ARG1\", \"I-ARG1\", \"B-V\", \"O\", \"O\", \"O\", \"O\", \"O\"]}, {\"verb\": \"be\", \"description\": \"It was the same M.O. as four other crimes that had plagued the community in recent months . Hal felt confident that his client would [V: be] found not guilty .\", \"tags\": [\"O\", \"O\", \"O\", \"O\", \"O\", \"O\", \"O\", \"O\", \"O\", \"O\", \"O\", \"O\", \"O\", \"O\", \"O\", \"O\", \"O\", \"O\", \"O\", \"O\", \"O\", \"O\", \"O\", \"O\", \"O\", \"B-V\", \"O\", \"O\", \"O\", \"O\"]}, {\"verb\": \"found\", \"description\": \"It was the same M.O. as four other crimes that had plagued the community in recent months . Hal felt confident that his client [ARGM-MOD: would] be [V: found] [ARG1: not guilty] .\", \"tags\": [\"O\", \"O\", \"O\", \"O\", \"O\", \"O\", \"O\", \"O\", \"O\", \"O\", \"O\", \"O\", \"O\", \"O\", \"O\", \"O\", \"O\", \"O\", \"O\", \"O\", \"O\", \"O\", \"O\", \"O\", \"B-ARGM-MOD\", \"O\", \"B-V\", \"B-ARG1\", \"I-ARG1\", \"O\"]}], \"words\": [\"It\", \"was\", \"the\", \"same\", \"M.O.\", \"as\", \"four\", \"other\", \"crimes\", \"that\", \"had\", \"plagued\", \"the\", \"community\", \"in\", \"recent\", \"months\", \".\", \"Hal\", \"felt\", \"confident\", \"that\", \"his\", \"client\", \"would\", \"be\", \"found\", \"not\", \"guilty\", \".\"]}\n",
            "\n",
            "input:  {'sentence': 'In his closing arguments he had pointed out the similarities between the serial murders, stressing the fact that anything the police had was merely circumstantial, not enough to convict.'}\n",
            "prediction:  {\"verbs\": [{\"verb\": \"had\", \"description\": \"In his closing arguments he [V: had] pointed out the similarities between the serial murders , stressing the fact that anything the police had was merely circumstantial , not enough to convict .\", \"tags\": [\"O\", \"O\", \"O\", \"O\", \"O\", \"B-V\", \"O\", \"O\", \"O\", \"O\", \"O\", \"O\", \"O\", \"O\", \"O\", \"O\", \"O\", \"O\", \"O\", \"O\", \"O\", \"O\", \"O\", \"O\", \"O\", \"O\", \"O\", \"O\", \"O\", \"O\", \"O\", \"O\"]}, {\"verb\": \"pointed\", \"description\": \"[ARGM-LOC: In his closing arguments] [ARG0: he] had [V: pointed] out [ARG1: the similarities between the serial murders] , [ARGM-ADV: stressing the fact that anything the police had was merely circumstantial , not enough to convict] .\", \"tags\": [\"B-ARGM-LOC\", \"I-ARGM-LOC\", \"I-ARGM-LOC\", \"I-ARGM-LOC\", \"B-ARG0\", \"O\", \"B-V\", \"O\", \"B-ARG1\", \"I-ARG1\", \"I-ARG1\", \"I-ARG1\", \"I-ARG1\", \"I-ARG1\", \"O\", \"B-ARGM-ADV\", \"I-ARGM-ADV\", \"I-ARGM-ADV\", \"I-ARGM-ADV\", \"I-ARGM-ADV\", \"I-ARGM-ADV\", \"I-ARGM-ADV\", \"I-ARGM-ADV\", \"I-ARGM-ADV\", \"I-ARGM-ADV\", \"I-ARGM-ADV\", \"I-ARGM-ADV\", \"I-ARGM-ADV\", \"I-ARGM-ADV\", \"I-ARGM-ADV\", \"I-ARGM-ADV\", \"O\"]}, {\"verb\": \"stressing\", \"description\": \"In his closing arguments [ARG0: he] had pointed out the similarities between the serial murders , [V: stressing] [ARG1: the fact that anything the police had was merely circumstantial , not enough to convict] .\", \"tags\": [\"O\", \"O\", \"O\", \"O\", \"B-ARG0\", \"O\", \"O\", \"O\", \"O\", \"O\", \"O\", \"O\", \"O\", \"O\", \"O\", \"B-V\", \"B-ARG1\", \"I-ARG1\", \"I-ARG1\", \"I-ARG1\", \"I-ARG1\", \"I-ARG1\", \"I-ARG1\", \"I-ARG1\", \"I-ARG1\", \"I-ARG1\", \"I-ARG1\", \"I-ARG1\", \"I-ARG1\", \"I-ARG1\", \"I-ARG1\", \"O\"]}, {\"verb\": \"had\", \"description\": \"In his closing arguments he had pointed out the similarities between the serial murders , stressing the fact that [ARG1: anything] [ARG0: the police] [V: had] was merely circumstantial , not enough to convict .\", \"tags\": [\"O\", \"O\", \"O\", \"O\", \"O\", \"O\", \"O\", \"O\", \"O\", \"O\", \"O\", \"O\", \"O\", \"O\", \"O\", \"O\", \"O\", \"O\", \"O\", \"B-ARG1\", \"B-ARG0\", \"I-ARG0\", \"B-V\", \"O\", \"O\", \"O\", \"O\", \"O\", \"O\", \"O\", \"O\", \"O\"]}, {\"verb\": \"was\", \"description\": \"In his closing arguments he had pointed out the similarities between the serial murders , stressing the fact that [ARG1: anything the police had] [V: was] [ARG2: merely circumstantial , not enough to convict] .\", \"tags\": [\"O\", \"O\", \"O\", \"O\", \"O\", \"O\", \"O\", \"O\", \"O\", \"O\", \"O\", \"O\", \"O\", \"O\", \"O\", \"O\", \"O\", \"O\", \"O\", \"B-ARG1\", \"I-ARG1\", \"I-ARG1\", \"I-ARG1\", \"B-V\", \"B-ARG2\", \"I-ARG2\", \"I-ARG2\", \"I-ARG2\", \"I-ARG2\", \"I-ARG2\", \"I-ARG2\", \"O\"]}, {\"verb\": \"convict\", \"description\": \"In his closing arguments he had pointed out the similarities between the serial murders , stressing the fact that [ARG0: anything the police] had was merely circumstantial , not enough to [V: convict] .\", \"tags\": [\"O\", \"O\", \"O\", \"O\", \"O\", \"O\", \"O\", \"O\", \"O\", \"O\", \"O\", \"O\", \"O\", \"O\", \"O\", \"O\", \"O\", \"O\", \"O\", \"B-ARG0\", \"I-ARG0\", \"I-ARG0\", \"O\", \"O\", \"O\", \"O\", \"O\", \"O\", \"O\", \"O\", \"B-V\", \"O\"]}], \"words\": [\"In\", \"his\", \"closing\", \"arguments\", \"he\", \"had\", \"pointed\", \"out\", \"the\", \"similarities\", \"between\", \"the\", \"serial\", \"murders\", \",\", \"stressing\", \"the\", \"fact\", \"that\", \"anything\", \"the\", \"police\", \"had\", \"was\", \"merely\", \"circumstantial\", \",\", \"not\", \"enough\", \"to\", \"convict\", \".\"]}\n",
            "\n",
            "input:  {'sentence': 'Indeed, ladies and gentlemen of the jury, while we sit here today arguing this case against David Rawlins, the real criminal is still out there waiting to attack again.'}\n",
            "prediction:  {\"verbs\": [{\"verb\": \"sit\", \"description\": \"Indeed , ladies and gentlemen of the jury , while [ARG1: we] [V: sit] [ARG2: here] [ARGM-TMP: today] [ARGM-ADV: arguing this case against David Rawlins] , the real criminal is still out there waiting to attack again .\", \"tags\": [\"O\", \"O\", \"O\", \"O\", \"O\", \"O\", \"O\", \"O\", \"O\", \"O\", \"B-ARG1\", \"B-V\", \"B-ARG2\", \"B-ARGM-TMP\", \"B-ARGM-ADV\", \"I-ARGM-ADV\", \"I-ARGM-ADV\", \"I-ARGM-ADV\", \"I-ARGM-ADV\", \"I-ARGM-ADV\", \"O\", \"O\", \"O\", \"O\", \"O\", \"O\", \"O\", \"O\", \"O\", \"O\", \"O\", \"O\", \"O\"]}, {\"verb\": \"arguing\", \"description\": \"Indeed , [ARG0: ladies and gentlemen of the jury] , while [ARG0: we] sit here today [V: arguing] [ARG1: this case against David Rawlins] , the real criminal is still out there waiting to attack again .\", \"tags\": [\"O\", \"O\", \"B-ARG0\", \"I-ARG0\", \"I-ARG0\", \"I-ARG0\", \"I-ARG0\", \"I-ARG0\", \"O\", \"O\", \"B-ARG0\", \"O\", \"O\", \"O\", \"B-V\", \"B-ARG1\", \"I-ARG1\", \"I-ARG1\", \"I-ARG1\", \"I-ARG1\", \"O\", \"O\", \"O\", \"O\", \"O\", \"O\", \"O\", \"O\", \"O\", \"O\", \"O\", \"O\", \"O\"]}, {\"verb\": \"is\", \"description\": \"[ARGM-DIS: Indeed] , [ARGM-DIS: ladies and gentlemen of the jury] , [ARGM-TMP: while we sit here today arguing this case against David Rawlins] , [ARG1: the real criminal] [V: is] [ARGM-TMP: still] [ARG2: out there] [ARGM-ADV: waiting to attack again] .\", \"tags\": [\"B-ARGM-DIS\", \"O\", \"B-ARGM-DIS\", \"I-ARGM-DIS\", \"I-ARGM-DIS\", \"I-ARGM-DIS\", \"I-ARGM-DIS\", \"I-ARGM-DIS\", \"O\", \"B-ARGM-TMP\", \"I-ARGM-TMP\", \"I-ARGM-TMP\", \"I-ARGM-TMP\", \"I-ARGM-TMP\", \"I-ARGM-TMP\", \"I-ARGM-TMP\", \"I-ARGM-TMP\", \"I-ARGM-TMP\", \"I-ARGM-TMP\", \"I-ARGM-TMP\", \"O\", \"B-ARG1\", \"I-ARG1\", \"I-ARG1\", \"B-V\", \"B-ARGM-TMP\", \"B-ARG2\", \"I-ARG2\", \"B-ARGM-ADV\", \"I-ARGM-ADV\", \"I-ARGM-ADV\", \"I-ARGM-ADV\", \"O\"]}, {\"verb\": \"waiting\", \"description\": \"Indeed , ladies and gentlemen of the jury , while we sit here today arguing this case against David Rawlins , [ARG1: the real criminal] is still out there [V: waiting] [ARG2: to attack again] .\", \"tags\": [\"O\", \"O\", \"O\", \"O\", \"O\", \"O\", \"O\", \"O\", \"O\", \"O\", \"O\", \"O\", \"O\", \"O\", \"O\", \"O\", \"O\", \"O\", \"O\", \"O\", \"O\", \"B-ARG1\", \"I-ARG1\", \"I-ARG1\", \"O\", \"O\", \"O\", \"O\", \"B-V\", \"B-ARG2\", \"I-ARG2\", \"I-ARG2\", \"O\"]}, {\"verb\": \"attack\", \"description\": \"Indeed , ladies and gentlemen of the jury , while we sit here today arguing this case against David Rawlins , [ARG0: the real criminal] is still out there waiting to [V: attack] [ARGM-TMP: again] .\", \"tags\": [\"O\", \"O\", \"O\", \"O\", \"O\", \"O\", \"O\", \"O\", \"O\", \"O\", \"O\", \"O\", \"O\", \"O\", \"O\", \"O\", \"O\", \"O\", \"O\", \"O\", \"O\", \"B-ARG0\", \"I-ARG0\", \"I-ARG0\", \"O\", \"O\", \"O\", \"O\", \"O\", \"O\", \"B-V\", \"B-ARGM-TMP\", \"O\"]}], \"words\": [\"Indeed\", \",\", \"ladies\", \"and\", \"gentlemen\", \"of\", \"the\", \"jury\", \",\", \"while\", \"we\", \"sit\", \"here\", \"today\", \"arguing\", \"this\", \"case\", \"against\", \"David\", \"Rawlins\", \",\", \"the\", \"real\", \"criminal\", \"is\", \"still\", \"out\", \"there\", \"waiting\", \"to\", \"attack\", \"again\", \".\"]}\n",
            "\n",
            "input:  {'sentence': 'That last had caused the lead detective on the case to shift uncomfortably in his seat.'}\n",
            "prediction:  {\"verbs\": [{\"verb\": \"had\", \"description\": \"That last [V: had] caused the lead detective on the case to shift uncomfortably in his seat .\", \"tags\": [\"O\", \"O\", \"B-V\", \"O\", \"O\", \"O\", \"O\", \"O\", \"O\", \"O\", \"O\", \"O\", \"O\", \"O\", \"O\", \"O\", \"O\"]}, {\"verb\": \"caused\", \"description\": \"[ARG0: That] [ARGM-TMP: last] had [V: caused] [ARG1: the lead detective on the case to shift uncomfortably in his seat] .\", \"tags\": [\"B-ARG0\", \"B-ARGM-TMP\", \"O\", \"B-V\", \"B-ARG1\", \"I-ARG1\", \"I-ARG1\", \"I-ARG1\", \"I-ARG1\", \"I-ARG1\", \"I-ARG1\", \"I-ARG1\", \"I-ARG1\", \"I-ARG1\", \"I-ARG1\", \"I-ARG1\", \"O\"]}, {\"verb\": \"shift\", \"description\": \"That last had caused [ARG1: the lead detective on the case] to [V: shift] [ARGM-MNR: uncomfortably] [ARG2: in his seat] .\", \"tags\": [\"O\", \"O\", \"O\", \"O\", \"B-ARG1\", \"I-ARG1\", \"I-ARG1\", \"I-ARG1\", \"I-ARG1\", \"I-ARG1\", \"O\", \"B-V\", \"B-ARGM-MNR\", \"B-ARG2\", \"I-ARG2\", \"I-ARG2\", \"O\"]}], \"words\": [\"That\", \"last\", \"had\", \"caused\", \"the\", \"lead\", \"detective\", \"on\", \"the\", \"case\", \"to\", \"shift\", \"uncomfortably\", \"in\", \"his\", \"seat\", \".\"]}\n",
            "\n",
            "input:  {'sentence': 'With quiet respect, Hal had attended the memorial service for the victim.'}\n",
            "prediction:  {\"verbs\": [{\"verb\": \"had\", \"description\": \"With quiet respect , Hal [V: had] attended the memorial service for the victim .\", \"tags\": [\"O\", \"O\", \"O\", \"O\", \"O\", \"B-V\", \"O\", \"O\", \"O\", \"O\", \"O\", \"O\", \"O\", \"O\"]}, {\"verb\": \"attended\", \"description\": \"[ARGM-MNR: With quiet respect] , [ARG0: Hal] had [V: attended] [ARG1: the memorial service for the victim] .\", \"tags\": [\"B-ARGM-MNR\", \"I-ARGM-MNR\", \"I-ARGM-MNR\", \"O\", \"B-ARG0\", \"O\", \"B-V\", \"B-ARG1\", \"I-ARG1\", \"I-ARG1\", \"I-ARG1\", \"I-ARG1\", \"I-ARG1\", \"O\"]}], \"words\": [\"With\", \"quiet\", \"respect\", \",\", \"Hal\", \"had\", \"attended\", \"the\", \"memorial\", \"service\", \"for\", \"the\", \"victim\", \".\"]}\n",
            "\n",
            "input:  {'sentence': 'In the front of the church stood a large photo of the woman.'}\n",
            "prediction:  {\"verbs\": [{\"verb\": \"stood\", \"description\": \"[ARG2: In the front of the church] [V: stood] [ARG1: a large photo of the woman] .\", \"tags\": [\"B-ARG2\", \"I-ARG2\", \"I-ARG2\", \"I-ARG2\", \"I-ARG2\", \"I-ARG2\", \"B-V\", \"B-ARG1\", \"I-ARG1\", \"I-ARG1\", \"I-ARG1\", \"I-ARG1\", \"I-ARG1\", \"O\"]}], \"words\": [\"In\", \"the\", \"front\", \"of\", \"the\", \"church\", \"stood\", \"a\", \"large\", \"photo\", \"of\", \"the\", \"woman\", \".\"]}\n",
            "\n",
            "input:  {'sentence': \"It showed everyone's grandmother, small and frail with a sweet face.\"}\n",
            "prediction:  {\"verbs\": [{\"verb\": \"showed\", \"description\": \"[ARG0: It] [V: showed] [ARG1: everyone 's grandmother , small and frail with a sweet face] .\", \"tags\": [\"B-ARG0\", \"B-V\", \"B-ARG1\", \"I-ARG1\", \"I-ARG1\", \"I-ARG1\", \"I-ARG1\", \"I-ARG1\", \"I-ARG1\", \"I-ARG1\", \"I-ARG1\", \"I-ARG1\", \"I-ARG1\", \"O\"]}], \"words\": [\"It\", \"showed\", \"everyone\", \"'s\", \"grandmother\", \",\", \"small\", \"and\", \"frail\", \"with\", \"a\", \"sweet\", \"face\", \".\"]}\n",
            "\n",
            "input:  {'sentence': 'Alva Spence had been graced with an abundance of thick, grey hair that she wore in a coiled braid on top of her head fixed by a butterfly-shaped hairpin.'}\n",
            "prediction:  {\"verbs\": [{\"verb\": \"had\", \"description\": \"Alva Spence [V: had] been graced with an abundance of thick , grey hair that she wore in a coiled braid on top of her head fixed by a butterfly - shaped hairpin .\", \"tags\": [\"O\", \"O\", \"B-V\", \"O\", \"O\", \"O\", \"O\", \"O\", \"O\", \"O\", \"O\", \"O\", \"O\", \"O\", \"O\", \"O\", \"O\", \"O\", \"O\", \"O\", \"O\", \"O\", \"O\", \"O\", \"O\", \"O\", \"O\", \"O\", \"O\", \"O\", \"O\", \"O\", \"O\"]}, {\"verb\": \"been\", \"description\": \"[ARG1: Alva Spence] had [V: been] [ARG2: graced] [ARGM-MNR: with an abundance of thick , grey hair that she wore in a coiled braid on top of her head fixed by a butterfly - shaped hairpin] .\", \"tags\": [\"B-ARG1\", \"I-ARG1\", \"O\", \"B-V\", \"B-ARG2\", \"B-ARGM-MNR\", \"I-ARGM-MNR\", \"I-ARGM-MNR\", \"I-ARGM-MNR\", \"I-ARGM-MNR\", \"I-ARGM-MNR\", \"I-ARGM-MNR\", \"I-ARGM-MNR\", \"I-ARGM-MNR\", \"I-ARGM-MNR\", \"I-ARGM-MNR\", \"I-ARGM-MNR\", \"I-ARGM-MNR\", \"I-ARGM-MNR\", \"I-ARGM-MNR\", \"I-ARGM-MNR\", \"I-ARGM-MNR\", \"I-ARGM-MNR\", \"I-ARGM-MNR\", \"I-ARGM-MNR\", \"I-ARGM-MNR\", \"I-ARGM-MNR\", \"I-ARGM-MNR\", \"I-ARGM-MNR\", \"I-ARGM-MNR\", \"I-ARGM-MNR\", \"I-ARGM-MNR\", \"O\"]}, {\"verb\": \"graced\", \"description\": \"[ARG1: Alva Spence] had been [V: graced] [ARGM-MNR: with an abundance of thick , grey hair that she wore in a coiled braid on top of her head fixed by a butterfly - shaped hairpin] .\", \"tags\": [\"B-ARG1\", \"I-ARG1\", \"O\", \"O\", \"B-V\", \"B-ARGM-MNR\", \"I-ARGM-MNR\", \"I-ARGM-MNR\", \"I-ARGM-MNR\", \"I-ARGM-MNR\", \"I-ARGM-MNR\", \"I-ARGM-MNR\", \"I-ARGM-MNR\", \"I-ARGM-MNR\", \"I-ARGM-MNR\", \"I-ARGM-MNR\", \"I-ARGM-MNR\", \"I-ARGM-MNR\", \"I-ARGM-MNR\", \"I-ARGM-MNR\", \"I-ARGM-MNR\", \"I-ARGM-MNR\", \"I-ARGM-MNR\", \"I-ARGM-MNR\", \"I-ARGM-MNR\", \"I-ARGM-MNR\", \"I-ARGM-MNR\", \"I-ARGM-MNR\", \"I-ARGM-MNR\", \"I-ARGM-MNR\", \"I-ARGM-MNR\", \"I-ARGM-MNR\", \"O\"]}, {\"verb\": \"wore\", \"description\": \"Alva Spence had been graced with an abundance of [ARG1: thick , grey hair] [R-ARG1: that] [ARG0: she] [V: wore] [ARGM-LOC: in a coiled braid] [ARGM-LOC: on top of her head fixed] [ARGM-MNR: by a butterfly - shaped hairpin] .\", \"tags\": [\"O\", \"O\", \"O\", \"O\", \"O\", \"O\", \"O\", \"O\", \"O\", \"B-ARG1\", \"I-ARG1\", \"I-ARG1\", \"I-ARG1\", \"B-R-ARG1\", \"B-ARG0\", \"B-V\", \"B-ARGM-LOC\", \"I-ARGM-LOC\", \"I-ARGM-LOC\", \"I-ARGM-LOC\", \"B-ARGM-LOC\", \"I-ARGM-LOC\", \"I-ARGM-LOC\", \"I-ARGM-LOC\", \"I-ARGM-LOC\", \"I-ARGM-LOC\", \"B-ARGM-MNR\", \"I-ARGM-MNR\", \"I-ARGM-MNR\", \"I-ARGM-MNR\", \"I-ARGM-MNR\", \"I-ARGM-MNR\", \"O\"]}, {\"verb\": \"coiled\", \"description\": \"Alva Spence had been graced with an abundance of thick , grey hair that she wore in a [V: coiled] [ARG1: braid] on top of her head fixed by a butterfly - shaped hairpin .\", \"tags\": [\"O\", \"O\", \"O\", \"O\", \"O\", \"O\", \"O\", \"O\", \"O\", \"O\", \"O\", \"O\", \"O\", \"O\", \"O\", \"O\", \"O\", \"O\", \"B-V\", \"B-ARG1\", \"O\", \"O\", \"O\", \"O\", \"O\", \"O\", \"O\", \"O\", \"O\", \"O\", \"O\", \"O\", \"O\"]}, {\"verb\": \"fixed\", \"description\": \"Alva Spence had been graced with an abundance of thick , grey hair that she wore in a coiled braid on top of [ARG1: her head] [V: fixed] [ARG0: by a butterfly - shaped hairpin] .\", \"tags\": [\"O\", \"O\", \"O\", \"O\", \"O\", \"O\", \"O\", \"O\", \"O\", \"O\", \"O\", \"O\", \"O\", \"O\", \"O\", \"O\", \"O\", \"O\", \"O\", \"O\", \"O\", \"O\", \"O\", \"B-ARG1\", \"I-ARG1\", \"B-V\", \"B-ARG0\", \"I-ARG0\", \"I-ARG0\", \"I-ARG0\", \"I-ARG0\", \"I-ARG0\", \"O\"]}, {\"verb\": \"shaped\", \"description\": \"Alva Spence had been graced with an abundance of thick , grey hair that she wore in a coiled braid on top of her head fixed by a [ARG2: butterfly] - [V: shaped] [ARG1: hairpin] .\", \"tags\": [\"O\", \"O\", \"O\", \"O\", \"O\", \"O\", \"O\", \"O\", \"O\", \"O\", \"O\", \"O\", \"O\", \"O\", \"O\", \"O\", \"O\", \"O\", \"O\", \"O\", \"O\", \"O\", \"O\", \"O\", \"O\", \"O\", \"O\", \"O\", \"B-ARG2\", \"O\", \"B-V\", \"B-ARG1\", \"O\"]}], \"words\": [\"Alva\", \"Spence\", \"had\", \"been\", \"graced\", \"with\", \"an\", \"abundance\", \"of\", \"thick\", \",\", \"grey\", \"hair\", \"that\", \"she\", \"wore\", \"in\", \"a\", \"coiled\", \"braid\", \"on\", \"top\", \"of\", \"her\", \"head\", \"fixed\", \"by\", \"a\", \"butterfly\", \"-\", \"shaped\", \"hairpin\", \".\"]}\n",
            "\n",
            "input:  {'sentence': 'She looked as though she were ready for Bingo.'}\n",
            "prediction:  {\"verbs\": [{\"verb\": \"looked\", \"description\": \"[ARG0: She] [V: looked] [ARG1: as though she were ready for Bingo] .\", \"tags\": [\"B-ARG0\", \"B-V\", \"B-ARG1\", \"I-ARG1\", \"I-ARG1\", \"I-ARG1\", \"I-ARG1\", \"I-ARG1\", \"I-ARG1\", \"O\"]}, {\"verb\": \"were\", \"description\": \"She looked as though [ARG1: she] [V: were] [ARG2: ready for Bingo] .\", \"tags\": [\"O\", \"O\", \"O\", \"O\", \"B-ARG1\", \"B-V\", \"B-ARG2\", \"I-ARG2\", \"I-ARG2\", \"O\"]}], \"words\": [\"She\", \"looked\", \"as\", \"though\", \"she\", \"were\", \"ready\", \"for\", \"Bingo\", \".\"]}\n",
            "\n",
            "input:  {'sentence': 'Now the trial was over.'}\n",
            "prediction:  {\"verbs\": [{\"verb\": \"was\", \"description\": \"[ARGM-TMP: Now] [ARG1: the trial] [V: was] [ARG2: over] .\", \"tags\": [\"B-ARGM-TMP\", \"B-ARG1\", \"I-ARG1\", \"B-V\", \"B-ARG2\", \"O\"]}], \"words\": [\"Now\", \"the\", \"trial\", \"was\", \"over\", \".\"]}\n",
            "\n",
            "input:  {'sentence': 'The jury had only deliberated for 3 hours before notifying the judge they were ready with a verdict.'}\n",
            "prediction:  {\"verbs\": [{\"verb\": \"had\", \"description\": \"The jury [V: had] only deliberated for 3 hours before notifying the judge they were ready with a verdict .\", \"tags\": [\"O\", \"O\", \"B-V\", \"O\", \"O\", \"O\", \"O\", \"O\", \"O\", \"O\", \"O\", \"O\", \"O\", \"O\", \"O\", \"O\", \"O\", \"O\", \"O\"]}, {\"verb\": \"deliberated\", \"description\": \"[ARG0: The jury] had [ARGM-ADV: only] [V: deliberated] [ARGM-TMP: for 3 hours] [ARGM-TMP: before notifying the judge they were ready with a verdict] .\", \"tags\": [\"B-ARG0\", \"I-ARG0\", \"O\", \"B-ARGM-ADV\", \"B-V\", \"B-ARGM-TMP\", \"I-ARGM-TMP\", \"I-ARGM-TMP\", \"B-ARGM-TMP\", \"I-ARGM-TMP\", \"I-ARGM-TMP\", \"I-ARGM-TMP\", \"I-ARGM-TMP\", \"I-ARGM-TMP\", \"I-ARGM-TMP\", \"I-ARGM-TMP\", \"I-ARGM-TMP\", \"I-ARGM-TMP\", \"O\"]}, {\"verb\": \"notifying\", \"description\": \"[ARG0: The jury] had only deliberated for 3 hours before [V: notifying] [ARG1: the judge] [ARG2: they] were ready with a verdict .\", \"tags\": [\"B-ARG0\", \"I-ARG0\", \"O\", \"O\", \"O\", \"O\", \"O\", \"O\", \"O\", \"B-V\", \"B-ARG1\", \"I-ARG1\", \"B-ARG2\", \"O\", \"O\", \"O\", \"O\", \"O\", \"O\"]}, {\"verb\": \"were\", \"description\": \"The jury had only deliberated for 3 hours before notifying the judge [ARG1: they] [V: were] [ARG2: ready with a verdict] .\", \"tags\": [\"O\", \"O\", \"O\", \"O\", \"O\", \"O\", \"O\", \"O\", \"O\", \"O\", \"O\", \"O\", \"B-ARG1\", \"B-V\", \"B-ARG2\", \"I-ARG2\", \"I-ARG2\", \"I-ARG2\", \"O\"]}], \"words\": [\"The\", \"jury\", \"had\", \"only\", \"deliberated\", \"for\", \"3\", \"hours\", \"before\", \"notifying\", \"the\", \"judge\", \"they\", \"were\", \"ready\", \"with\", \"a\", \"verdict\", \".\"]}\n",
            "\n",
            "input:  {'sentence': \"As the bailiff approached the bench with the small slip of paper containing his client's future, he glanced at the man next to him.\"}\n",
            "prediction:  {\"verbs\": [{\"verb\": \"approached\", \"description\": \"As [ARG0: the bailiff] [V: approached] [ARG1: the bench] [ARGM-MNR: with the small slip of paper containing his client 's future] , he glanced at the man next to him .\", \"tags\": [\"O\", \"B-ARG0\", \"I-ARG0\", \"B-V\", \"B-ARG1\", \"I-ARG1\", \"B-ARGM-MNR\", \"I-ARGM-MNR\", \"I-ARGM-MNR\", \"I-ARGM-MNR\", \"I-ARGM-MNR\", \"I-ARGM-MNR\", \"I-ARGM-MNR\", \"I-ARGM-MNR\", \"I-ARGM-MNR\", \"I-ARGM-MNR\", \"I-ARGM-MNR\", \"O\", \"O\", \"O\", \"O\", \"O\", \"O\", \"O\", \"O\", \"O\", \"O\"]}, {\"verb\": \"containing\", \"description\": \"As the bailiff approached the bench with the small slip of [ARG0: paper] [V: containing] [ARG1: his client 's future] , he glanced at the man next to him .\", \"tags\": [\"O\", \"O\", \"O\", \"O\", \"O\", \"O\", \"O\", \"O\", \"O\", \"O\", \"O\", \"B-ARG0\", \"B-V\", \"B-ARG1\", \"I-ARG1\", \"I-ARG1\", \"I-ARG1\", \"O\", \"O\", \"O\", \"O\", \"O\", \"O\", \"O\", \"O\", \"O\", \"O\"]}, {\"verb\": \"glanced\", \"description\": \"[ARGM-TMP: As the bailiff approached the bench with the small slip of paper containing his client 's future] , [ARG0: he] [V: glanced] [ARG1: at the man] [ARGM-GOL: next to him] .\", \"tags\": [\"B-ARGM-TMP\", \"I-ARGM-TMP\", \"I-ARGM-TMP\", \"I-ARGM-TMP\", \"I-ARGM-TMP\", \"I-ARGM-TMP\", \"I-ARGM-TMP\", \"I-ARGM-TMP\", \"I-ARGM-TMP\", \"I-ARGM-TMP\", \"I-ARGM-TMP\", \"I-ARGM-TMP\", \"I-ARGM-TMP\", \"I-ARGM-TMP\", \"I-ARGM-TMP\", \"I-ARGM-TMP\", \"I-ARGM-TMP\", \"O\", \"B-ARG0\", \"B-V\", \"B-ARG1\", \"I-ARG1\", \"I-ARG1\", \"B-ARGM-GOL\", \"I-ARGM-GOL\", \"I-ARGM-GOL\", \"O\"]}], \"words\": [\"As\", \"the\", \"bailiff\", \"approached\", \"the\", \"bench\", \"with\", \"the\", \"small\", \"slip\", \"of\", \"paper\", \"containing\", \"his\", \"client\", \"'s\", \"future\", \",\", \"he\", \"glanced\", \"at\", \"the\", \"man\", \"next\", \"to\", \"him\", \".\"]}\n",
            "\n",
            "input:  {'sentence': 'Rawlins stood calmly, staring straight ahead, completely unconcerned.'}\n",
            "prediction:  {\"verbs\": [{\"verb\": \"stood\", \"description\": \"[ARG1: Rawlins] [V: stood] [ARGM-MNR: calmly] , [ARGM-ADV: staring straight ahead , completely unconcerned] .\", \"tags\": [\"B-ARG1\", \"B-V\", \"B-ARGM-MNR\", \"O\", \"B-ARGM-ADV\", \"I-ARGM-ADV\", \"I-ARGM-ADV\", \"I-ARGM-ADV\", \"I-ARGM-ADV\", \"I-ARGM-ADV\", \"O\"]}, {\"verb\": \"staring\", \"description\": \"[ARG0: Rawlins] stood calmly , [V: staring] [ARGM-DIR: straight ahead] , [ARGM-ADV: completely unconcerned] .\", \"tags\": [\"B-ARG0\", \"O\", \"O\", \"O\", \"B-V\", \"B-ARGM-DIR\", \"I-ARGM-DIR\", \"O\", \"B-ARGM-ADV\", \"I-ARGM-ADV\", \"O\"]}], \"words\": [\"Rawlins\", \"stood\", \"calmly\", \",\", \"staring\", \"straight\", \"ahead\", \",\", \"completely\", \"unconcerned\", \".\"]}\n",
            "\n",
            "input:  {'sentence': 'Hal felt exasperated, was the other man completely incapable of emotion?'}\n",
            "prediction:  {\"verbs\": [{\"verb\": \"felt\", \"description\": \"[ARG0: Hal] [V: felt] [ARG1: exasperated] , was the other man completely incapable of emotion ?\", \"tags\": [\"B-ARG0\", \"B-V\", \"B-ARG1\", \"O\", \"O\", \"O\", \"O\", \"O\", \"O\", \"O\", \"O\", \"O\", \"O\"]}, {\"verb\": \"exasperated\", \"description\": \"[ARG1: Hal] felt [V: exasperated] , was the other man completely incapable of emotion ?\", \"tags\": [\"B-ARG1\", \"O\", \"B-V\", \"O\", \"O\", \"O\", \"O\", \"O\", \"O\", \"O\", \"O\", \"O\", \"O\"]}, {\"verb\": \"was\", \"description\": \"Hal felt exasperated , [V: was] [ARG1: the other man] [ARG2: completely incapable of emotion] ?\", \"tags\": [\"O\", \"O\", \"O\", \"O\", \"B-V\", \"B-ARG1\", \"I-ARG1\", \"I-ARG1\", \"B-ARG2\", \"I-ARG2\", \"I-ARG2\", \"I-ARG2\", \"O\"]}], \"words\": [\"Hal\", \"felt\", \"exasperated\", \",\", \"was\", \"the\", \"other\", \"man\", \"completely\", \"incapable\", \"of\", \"emotion\", \"?\"]}\n",
            "\n",
            "input:  {'sentence': '\"We the jury find the defendant... Not guilty.\"'}\n",
            "prediction:  {\"verbs\": [{\"verb\": \"find\", \"description\": \"\\\" [ARG0: We the jury] [V: find] [ARG1: the defendant ... Not guilty] . \\\"\", \"tags\": [\"O\", \"B-ARG0\", \"I-ARG0\", \"I-ARG0\", \"B-V\", \"B-ARG1\", \"I-ARG1\", \"I-ARG1\", \"I-ARG1\", \"I-ARG1\", \"O\", \"O\"]}], \"words\": [\"\\\"\", \"We\", \"the\", \"jury\", \"find\", \"the\", \"defendant\", \"...\", \"Not\", \"guilty\", \".\", \"\\\"\"]}\n",
            "\n",
            "input:  {'sentence': 'An anguished wail erupted from the back of the courtroom.'}\n",
            "prediction:  {\"verbs\": [{\"verb\": \"erupted\", \"description\": \"[ARG1: An anguished wail] [V: erupted] [ARGM-DIR: from the back of the courtroom] .\", \"tags\": [\"B-ARG1\", \"I-ARG1\", \"I-ARG1\", \"B-V\", \"B-ARGM-DIR\", \"I-ARGM-DIR\", \"I-ARGM-DIR\", \"I-ARGM-DIR\", \"I-ARGM-DIR\", \"I-ARGM-DIR\", \"O\"]}], \"words\": [\"An\", \"anguished\", \"wail\", \"erupted\", \"from\", \"the\", \"back\", \"of\", \"the\", \"courtroom\", \".\"]}\n",
            "\n",
            "input:  {'sentence': \"Hal barely listened to the judge's instructions as he placed his paperwork into the briefcase on the table in front of him.\"}\n",
            "prediction:  {\"verbs\": [{\"verb\": \"listened\", \"description\": \"[ARG0: Hal] [ARGM-MNR: barely] [V: listened] [ARG1: to the judge 's instructions] [ARGM-TMP: as he placed his paperwork into the briefcase on the table in front of him] .\", \"tags\": [\"B-ARG0\", \"B-ARGM-MNR\", \"B-V\", \"B-ARG1\", \"I-ARG1\", \"I-ARG1\", \"I-ARG1\", \"I-ARG1\", \"B-ARGM-TMP\", \"I-ARGM-TMP\", \"I-ARGM-TMP\", \"I-ARGM-TMP\", \"I-ARGM-TMP\", \"I-ARGM-TMP\", \"I-ARGM-TMP\", \"I-ARGM-TMP\", \"I-ARGM-TMP\", \"I-ARGM-TMP\", \"I-ARGM-TMP\", \"I-ARGM-TMP\", \"I-ARGM-TMP\", \"I-ARGM-TMP\", \"I-ARGM-TMP\", \"O\"]}, {\"verb\": \"placed\", \"description\": \"Hal barely listened to the judge 's instructions as [ARG0: he] [V: placed] [ARG1: his paperwork] [ARG2: into the briefcase on the table] [ARGM-LOC: in front of him] .\", \"tags\": [\"O\", \"O\", \"O\", \"O\", \"O\", \"O\", \"O\", \"O\", \"O\", \"B-ARG0\", \"B-V\", \"B-ARG1\", \"I-ARG1\", \"B-ARG2\", \"I-ARG2\", \"I-ARG2\", \"I-ARG2\", \"I-ARG2\", \"I-ARG2\", \"B-ARGM-LOC\", \"I-ARGM-LOC\", \"I-ARGM-LOC\", \"I-ARGM-LOC\", \"O\"]}], \"words\": [\"Hal\", \"barely\", \"listened\", \"to\", \"the\", \"judge\", \"'s\", \"instructions\", \"as\", \"he\", \"placed\", \"his\", \"paperwork\", \"into\", \"the\", \"briefcase\", \"on\", \"the\", \"table\", \"in\", \"front\", \"of\", \"him\", \".\"]}\n",
            "\n",
            "input:  {'sentence': 'He knew this part by heart from long experience.'}\n",
            "prediction:  {\"verbs\": [{\"verb\": \"knew\", \"description\": \"[ARG0: He] [V: knew] [ARG1: this part by heart] [ARGM-ADV: from long experience] .\", \"tags\": [\"B-ARG0\", \"B-V\", \"B-ARG1\", \"I-ARG1\", \"I-ARG1\", \"I-ARG1\", \"B-ARGM-ADV\", \"I-ARGM-ADV\", \"I-ARGM-ADV\", \"O\"]}], \"words\": [\"He\", \"knew\", \"this\", \"part\", \"by\", \"heart\", \"from\", \"long\", \"experience\", \".\"]}\n",
            "\n",
            "input:  {'sentence': \"Turning to congratulate Rawlins, he changed his mind at the closed face looking back at him. David Rawlins walked steadily from the courtroom, ignoring the victim's sobbing granddaughter.\"}\n",
            "prediction:  {\"verbs\": [{\"verb\": \"Turning\", \"description\": \"[V: Turning] [ARGM-DIR: to congratulate Rawlins] , [ARG0: he] changed his mind at the closed face looking back at him . David Rawlins walked steadily from the courtroom , ignoring the victim 's sobbing granddaughter .\", \"tags\": [\"B-V\", \"B-ARGM-DIR\", \"I-ARGM-DIR\", \"I-ARGM-DIR\", \"O\", \"B-ARG0\", \"O\", \"O\", \"O\", \"O\", \"O\", \"O\", \"O\", \"O\", \"O\", \"O\", \"O\", \"O\", \"O\", \"O\", \"O\", \"O\", \"O\", \"O\", \"O\", \"O\", \"O\", \"O\", \"O\", \"O\", \"O\", \"O\", \"O\"]}, {\"verb\": \"congratulate\", \"description\": \"Turning to [V: congratulate] [ARG1: Rawlins] , [ARG0: he] changed his mind at the closed face looking back at him . David Rawlins walked steadily from the courtroom , ignoring the victim 's sobbing granddaughter .\", \"tags\": [\"O\", \"O\", \"B-V\", \"B-ARG1\", \"O\", \"B-ARG0\", \"O\", \"O\", \"O\", \"O\", \"O\", \"O\", \"O\", \"O\", \"O\", \"O\", \"O\", \"O\", \"O\", \"O\", \"O\", \"O\", \"O\", \"O\", \"O\", \"O\", \"O\", \"O\", \"O\", \"O\", \"O\", \"O\", \"O\"]}, {\"verb\": \"changed\", \"description\": \"[ARGM-ADV: Turning to congratulate Rawlins] , [ARG0: he] [V: changed] [ARG1: his mind] [ARGM-LOC: at the closed face] [ARGM-PRD: looking back at him] . David Rawlins walked steadily from the courtroom , ignoring the victim 's sobbing granddaughter .\", \"tags\": [\"B-ARGM-ADV\", \"I-ARGM-ADV\", \"I-ARGM-ADV\", \"I-ARGM-ADV\", \"O\", \"B-ARG0\", \"B-V\", \"B-ARG1\", \"I-ARG1\", \"B-ARGM-LOC\", \"I-ARGM-LOC\", \"I-ARGM-LOC\", \"I-ARGM-LOC\", \"B-ARGM-PRD\", \"I-ARGM-PRD\", \"I-ARGM-PRD\", \"I-ARGM-PRD\", \"O\", \"O\", \"O\", \"O\", \"O\", \"O\", \"O\", \"O\", \"O\", \"O\", \"O\", \"O\", \"O\", \"O\", \"O\", \"O\"]}, {\"verb\": \"looking\", \"description\": \"Turning to congratulate Rawlins , [ARG0: he] changed his mind at the closed face [V: looking] [ARG1: back at him] . David Rawlins walked steadily from the courtroom , ignoring the victim 's sobbing granddaughter .\", \"tags\": [\"O\", \"O\", \"O\", \"O\", \"O\", \"B-ARG0\", \"O\", \"O\", \"O\", \"O\", \"O\", \"O\", \"O\", \"B-V\", \"B-ARG1\", \"I-ARG1\", \"I-ARG1\", \"O\", \"O\", \"O\", \"O\", \"O\", \"O\", \"O\", \"O\", \"O\", \"O\", \"O\", \"O\", \"O\", \"O\", \"O\", \"O\"]}, {\"verb\": \"walked\", \"description\": \"Turning to congratulate Rawlins , he changed his mind at the closed face looking back at him . [ARG0: David Rawlins] [V: walked] [ARGM-MNR: steadily] [ARGM-DIR: from the courtroom] , [ARGM-ADV: ignoring the victim 's sobbing granddaughter] .\", \"tags\": [\"O\", \"O\", \"O\", \"O\", \"O\", \"O\", \"O\", \"O\", \"O\", \"O\", \"O\", \"O\", \"O\", \"O\", \"O\", \"O\", \"O\", \"O\", \"B-ARG0\", \"I-ARG0\", \"B-V\", \"B-ARGM-MNR\", \"B-ARGM-DIR\", \"I-ARGM-DIR\", \"I-ARGM-DIR\", \"O\", \"B-ARGM-ADV\", \"I-ARGM-ADV\", \"I-ARGM-ADV\", \"I-ARGM-ADV\", \"I-ARGM-ADV\", \"I-ARGM-ADV\", \"O\"]}, {\"verb\": \"ignoring\", \"description\": \"Turning to congratulate Rawlins , he changed his mind at the closed face looking back at him . [ARG0: David Rawlins] walked steadily from the courtroom , [V: ignoring] [ARG1: the victim 's sobbing granddaughter] .\", \"tags\": [\"O\", \"O\", \"O\", \"O\", \"O\", \"O\", \"O\", \"O\", \"O\", \"O\", \"O\", \"O\", \"O\", \"O\", \"O\", \"O\", \"O\", \"O\", \"B-ARG0\", \"I-ARG0\", \"O\", \"O\", \"O\", \"O\", \"O\", \"O\", \"B-V\", \"B-ARG1\", \"I-ARG1\", \"I-ARG1\", \"I-ARG1\", \"I-ARG1\", \"O\"]}, {\"verb\": \"sobbing\", \"description\": \"Turning to congratulate Rawlins , he changed his mind at the closed face looking back at him . David Rawlins walked steadily from the courtroom , ignoring the victim 's [V: sobbing] [ARG0: granddaughter] .\", \"tags\": [\"O\", \"O\", \"O\", \"O\", \"O\", \"O\", \"O\", \"O\", \"O\", \"O\", \"O\", \"O\", \"O\", \"O\", \"O\", \"O\", \"O\", \"O\", \"O\", \"O\", \"O\", \"O\", \"O\", \"O\", \"O\", \"O\", \"O\", \"O\", \"O\", \"O\", \"B-V\", \"B-ARG0\", \"O\"]}], \"words\": [\"Turning\", \"to\", \"congratulate\", \"Rawlins\", \",\", \"he\", \"changed\", \"his\", \"mind\", \"at\", \"the\", \"closed\", \"face\", \"looking\", \"back\", \"at\", \"him\", \".\", \"David\", \"Rawlins\", \"walked\", \"steadily\", \"from\", \"the\", \"courtroom\", \",\", \"ignoring\", \"the\", \"victim\", \"'s\", \"sobbing\", \"granddaughter\", \".\"]}\n",
            "\n",
            "input:  {'sentence': 'Hal shook his head and followed him down the hall and out of the courthouse.'}\n",
            "prediction:  {\"verbs\": [{\"verb\": \"shook\", \"description\": \"[ARG0: Hal] [V: shook] [ARG1: his head] and followed him down the hall and out of the courthouse .\", \"tags\": [\"B-ARG0\", \"B-V\", \"B-ARG1\", \"I-ARG1\", \"O\", \"O\", \"O\", \"O\", \"O\", \"O\", \"O\", \"O\", \"O\", \"O\", \"O\", \"O\"]}, {\"verb\": \"followed\", \"description\": \"[ARG1: Hal] shook his head and [V: followed] [ARG2: him down the hall and out of the courthouse] .\", \"tags\": [\"B-ARG1\", \"O\", \"O\", \"O\", \"O\", \"B-V\", \"B-ARG2\", \"I-ARG2\", \"I-ARG2\", \"I-ARG2\", \"I-ARG2\", \"I-ARG2\", \"I-ARG2\", \"I-ARG2\", \"I-ARG2\", \"O\"]}], \"words\": [\"Hal\", \"shook\", \"his\", \"head\", \"and\", \"followed\", \"him\", \"down\", \"the\", \"hall\", \"and\", \"out\", \"of\", \"the\", \"courthouse\", \".\"]}\n",
            "\n",
            "input:  {'sentence': 'They started down the stairs, then Rawlins paused.'}\n",
            "prediction:  {\"verbs\": [{\"verb\": \"started\", \"description\": \"[ARG0: They] [V: started] down [ARG1: the stairs] , then Rawlins paused .\", \"tags\": [\"B-ARG0\", \"B-V\", \"O\", \"B-ARG1\", \"I-ARG1\", \"O\", \"O\", \"O\", \"O\", \"O\"]}, {\"verb\": \"Rawlins\", \"description\": \"[ARG0: They] started down the stairs , [ARGM-TMP: then] [V: Rawlins] [ARGM-MNR: paused] .\", \"tags\": [\"B-ARG0\", \"O\", \"O\", \"O\", \"O\", \"O\", \"B-ARGM-TMP\", \"B-V\", \"B-ARGM-MNR\", \"O\"]}, {\"verb\": \"paused\", \"description\": \"They started down the stairs , [ARGM-TMP: then] [ARG0: Rawlins] [V: paused] .\", \"tags\": [\"O\", \"O\", \"O\", \"O\", \"O\", \"O\", \"B-ARGM-TMP\", \"B-ARG0\", \"B-V\", \"O\"]}], \"words\": [\"They\", \"started\", \"down\", \"the\", \"stairs\", \",\", \"then\", \"Rawlins\", \"paused\", \".\"]}\n",
            "\n",
            "input:  {'sentence': \"Reaching out he gave Hal's lapel a tug. Hal felt his mouth go dry as David's face was suddenly lit with a huge smile.\"}\n",
            "prediction:  {\"verbs\": [{\"verb\": \"Reaching\", \"description\": \"[V: Reaching] out [ARG1: he] gave Hal 's lapel a tug . Hal felt his mouth go dry as David 's face was suddenly lit with a huge smile .\", \"tags\": [\"B-V\", \"O\", \"B-ARG1\", \"O\", \"O\", \"O\", \"O\", \"O\", \"O\", \"O\", \"O\", \"O\", \"O\", \"O\", \"O\", \"O\", \"O\", \"O\", \"O\", \"O\", \"O\", \"O\", \"O\", \"O\", \"O\", \"O\", \"O\", \"O\"]}, {\"verb\": \"gave\", \"description\": \"Reaching out [ARG0: he] [V: gave] [ARG2: Hal 's lapel] [ARG1: a tug] . Hal felt his mouth go dry as David 's face was suddenly lit with a huge smile .\", \"tags\": [\"O\", \"O\", \"B-ARG0\", \"B-V\", \"B-ARG2\", \"I-ARG2\", \"I-ARG2\", \"B-ARG1\", \"I-ARG1\", \"O\", \"O\", \"O\", \"O\", \"O\", \"O\", \"O\", \"O\", \"O\", \"O\", \"O\", \"O\", \"O\", \"O\", \"O\", \"O\", \"O\", \"O\", \"O\"]}, {\"verb\": \"felt\", \"description\": \"Reaching out he gave Hal 's lapel a tug . [ARG0: Hal] [V: felt] [ARG1: his mouth go dry] [ARGM-CAU: as David 's face was suddenly lit with a huge smile] .\", \"tags\": [\"O\", \"O\", \"O\", \"O\", \"O\", \"O\", \"O\", \"O\", \"O\", \"O\", \"B-ARG0\", \"B-V\", \"B-ARG1\", \"I-ARG1\", \"I-ARG1\", \"I-ARG1\", \"B-ARGM-CAU\", \"I-ARGM-CAU\", \"I-ARGM-CAU\", \"I-ARGM-CAU\", \"I-ARGM-CAU\", \"I-ARGM-CAU\", \"I-ARGM-CAU\", \"I-ARGM-CAU\", \"I-ARGM-CAU\", \"I-ARGM-CAU\", \"I-ARGM-CAU\", \"O\"]}, {\"verb\": \"go\", \"description\": \"Reaching out he gave Hal 's lapel a tug . Hal felt [ARG1: his mouth] [V: go] [ARG2: dry] [ARGM-ADV: as David 's face was] suddenly lit with a huge smile .\", \"tags\": [\"O\", \"O\", \"O\", \"O\", \"O\", \"O\", \"O\", \"O\", \"O\", \"O\", \"O\", \"O\", \"B-ARG1\", \"I-ARG1\", \"B-V\", \"B-ARG2\", \"B-ARGM-ADV\", \"I-ARGM-ADV\", \"I-ARGM-ADV\", \"I-ARGM-ADV\", \"I-ARGM-ADV\", \"O\", \"O\", \"O\", \"O\", \"O\", \"O\", \"O\"]}, {\"verb\": \"was\", \"description\": \"Reaching out he gave Hal 's lapel a tug . Hal felt his mouth go dry as David 's face [V: was] suddenly lit with a huge smile .\", \"tags\": [\"O\", \"O\", \"O\", \"O\", \"O\", \"O\", \"O\", \"O\", \"O\", \"O\", \"O\", \"O\", \"O\", \"O\", \"O\", \"O\", \"O\", \"O\", \"O\", \"O\", \"B-V\", \"O\", \"O\", \"O\", \"O\", \"O\", \"O\", \"O\"]}, {\"verb\": \"lit\", \"description\": \"Reaching out he gave Hal 's lapel a tug . Hal felt his mouth go dry as [ARG1: David 's face] was [ARGM-MNR: suddenly] [V: lit] [ARGM-MNR: with a huge smile] .\", \"tags\": [\"O\", \"O\", \"O\", \"O\", \"O\", \"O\", \"O\", \"O\", \"O\", \"O\", \"O\", \"O\", \"O\", \"O\", \"O\", \"O\", \"O\", \"B-ARG1\", \"I-ARG1\", \"I-ARG1\", \"O\", \"B-ARGM-MNR\", \"B-V\", \"B-ARGM-MNR\", \"I-ARGM-MNR\", \"I-ARGM-MNR\", \"I-ARGM-MNR\", \"O\"]}], \"words\": [\"Reaching\", \"out\", \"he\", \"gave\", \"Hal\", \"'s\", \"lapel\", \"a\", \"tug\", \".\", \"Hal\", \"felt\", \"his\", \"mouth\", \"go\", \"dry\", \"as\", \"David\", \"'s\", \"face\", \"was\", \"suddenly\", \"lit\", \"with\", \"a\", \"huge\", \"smile\", \".\"]}\n",
            "\n",
            "input:  {'sentence': 'It reminded the attorney of something from a horror film.'}\n",
            "prediction:  {\"verbs\": [{\"verb\": \"reminded\", \"description\": \"[ARG0: It] [V: reminded] [ARG2: the attorney] [ARG1: of something from a horror film] .\", \"tags\": [\"B-ARG0\", \"B-V\", \"B-ARG2\", \"I-ARG2\", \"B-ARG1\", \"I-ARG1\", \"I-ARG1\", \"I-ARG1\", \"I-ARG1\", \"I-ARG1\", \"O\"]}], \"words\": [\"It\", \"reminded\", \"the\", \"attorney\", \"of\", \"something\", \"from\", \"a\", \"horror\", \"film\", \".\"]}\n",
            "\n",
            "input:  {'sentence': 'Before Hal could react Rawlins was gone, lost in the courthouse traffic.'}\n",
            "prediction:  {\"verbs\": [{\"verb\": \"could\", \"description\": \"Before Hal [V: could] react Rawlins was gone , lost in the courthouse traffic .\", \"tags\": [\"O\", \"O\", \"B-V\", \"O\", \"O\", \"O\", \"O\", \"O\", \"O\", \"O\", \"O\", \"O\", \"O\", \"O\"]}, {\"verb\": \"react\", \"description\": \"Before [ARG0: Hal] [ARGM-MOD: could] [V: react] Rawlins was gone , lost in the courthouse traffic .\", \"tags\": [\"O\", \"B-ARG0\", \"B-ARGM-MOD\", \"B-V\", \"O\", \"O\", \"O\", \"O\", \"O\", \"O\", \"O\", \"O\", \"O\", \"O\"]}, {\"verb\": \"was\", \"description\": \"Before Hal could react Rawlins [V: was] gone , lost in the courthouse traffic .\", \"tags\": [\"O\", \"O\", \"O\", \"O\", \"O\", \"B-V\", \"O\", \"O\", \"O\", \"O\", \"O\", \"O\", \"O\", \"O\"]}, {\"verb\": \"gone\", \"description\": \"[ARGM-TMP: Before Hal could react] [ARG1: Rawlins] was [V: gone] , [ARGM-PRD: lost in the courthouse traffic] .\", \"tags\": [\"B-ARGM-TMP\", \"I-ARGM-TMP\", \"I-ARGM-TMP\", \"I-ARGM-TMP\", \"B-ARG1\", \"O\", \"B-V\", \"O\", \"B-ARGM-PRD\", \"I-ARGM-PRD\", \"I-ARGM-PRD\", \"I-ARGM-PRD\", \"I-ARGM-PRD\", \"O\"]}, {\"verb\": \"lost\", \"description\": \"[ARGM-TMP: Before Hal could react] [ARG1: Rawlins] was gone , [V: lost] [ARGM-LOC: in the courthouse traffic] .\", \"tags\": [\"B-ARGM-TMP\", \"I-ARGM-TMP\", \"I-ARGM-TMP\", \"I-ARGM-TMP\", \"B-ARG1\", \"O\", \"O\", \"O\", \"B-V\", \"B-ARGM-LOC\", \"I-ARGM-LOC\", \"I-ARGM-LOC\", \"I-ARGM-LOC\", \"O\"]}], \"words\": [\"Before\", \"Hal\", \"could\", \"react\", \"Rawlins\", \"was\", \"gone\", \",\", \"lost\", \"in\", \"the\", \"courthouse\", \"traffic\", \".\"]}\n",
            "\n",
            "input:  {'sentence': 'Shaken by that horrible smile after months of no emotion at all, Hal looked down at himself.'}\n",
            "prediction:  {\"verbs\": [{\"verb\": \"Shaken\", \"description\": \"[V: Shaken] [ARG0: by that horrible smile after months of no emotion at all] , [ARG1: Hal] looked down at himself .\", \"tags\": [\"B-V\", \"B-ARG0\", \"I-ARG0\", \"I-ARG0\", \"I-ARG0\", \"I-ARG0\", \"I-ARG0\", \"I-ARG0\", \"I-ARG0\", \"I-ARG0\", \"I-ARG0\", \"I-ARG0\", \"O\", \"B-ARG1\", \"O\", \"O\", \"O\", \"O\", \"O\"]}, {\"verb\": \"looked\", \"description\": \"[R-ARG0: Shaken by that horrible smile after months of no emotion at all] , [ARG0: Hal] [V: looked] [ARGM-DIR: down] [ARG1: at himself] .\", \"tags\": [\"B-R-ARG0\", \"I-R-ARG0\", \"I-R-ARG0\", \"I-R-ARG0\", \"I-R-ARG0\", \"I-R-ARG0\", \"I-R-ARG0\", \"I-R-ARG0\", \"I-R-ARG0\", \"I-R-ARG0\", \"I-R-ARG0\", \"I-R-ARG0\", \"O\", \"B-ARG0\", \"B-V\", \"B-ARGM-DIR\", \"B-ARG1\", \"I-ARG1\", \"O\"]}], \"words\": [\"Shaken\", \"by\", \"that\", \"horrible\", \"smile\", \"after\", \"months\", \"of\", \"no\", \"emotion\", \"at\", \"all\", \",\", \"Hal\", \"looked\", \"down\", \"at\", \"himself\", \".\"]}\n",
            "\n",
            "input:  {'sentence': 'His briefcase slid slowly from his trembling, numbed fingers and down the steps.'}\n",
            "prediction:  {\"verbs\": [{\"verb\": \"slid\", \"description\": \"[ARG1: His briefcase] [V: slid] [ARGM-MNR: slowly] [ARG3: from his trembling] , numbed fingers and [ARGM-DIR: down the steps] .\", \"tags\": [\"B-ARG1\", \"I-ARG1\", \"B-V\", \"B-ARGM-MNR\", \"B-ARG3\", \"I-ARG3\", \"I-ARG3\", \"O\", \"O\", \"O\", \"O\", \"B-ARGM-DIR\", \"I-ARGM-DIR\", \"I-ARGM-DIR\", \"O\"]}, {\"verb\": \"numbed\", \"description\": \"[ARG0: His briefcase] slid slowly from his trembling , [V: numbed] [ARG1: fingers] and down the steps .\", \"tags\": [\"B-ARG0\", \"I-ARG0\", \"O\", \"O\", \"O\", \"O\", \"O\", \"O\", \"B-V\", \"B-ARG1\", \"O\", \"O\", \"O\", \"O\", \"O\"]}], \"words\": [\"His\", \"briefcase\", \"slid\", \"slowly\", \"from\", \"his\", \"trembling\", \",\", \"numbed\", \"fingers\", \"and\", \"down\", \"the\", \"steps\", \".\"]}\n",
            "\n",
            "input:  {'sentence': 'There in his lapel, glistening in the late afternoon sunlight, was a hairpin shaped like a butterfly.'}\n",
            "prediction:  {\"verbs\": [{\"verb\": \"glistening\", \"description\": \"There in his lapel , [V: glistening] [ARGM-LOC: in the late afternoon sunlight] , was a hairpin shaped like a butterfly .\", \"tags\": [\"O\", \"O\", \"O\", \"O\", \"O\", \"B-V\", \"B-ARGM-LOC\", \"I-ARGM-LOC\", \"I-ARGM-LOC\", \"I-ARGM-LOC\", \"I-ARGM-LOC\", \"O\", \"O\", \"O\", \"O\", \"O\", \"O\", \"O\", \"O\", \"O\"]}, {\"verb\": \"was\", \"description\": \"[ARGM-LOC: There in his lapel] , [ARG1: glistening in the late afternoon sunlight] , [V: was] [ARG2: a hairpin shaped like a butterfly] .\", \"tags\": [\"B-ARGM-LOC\", \"I-ARGM-LOC\", \"I-ARGM-LOC\", \"I-ARGM-LOC\", \"O\", \"B-ARG1\", \"I-ARG1\", \"I-ARG1\", \"I-ARG1\", \"I-ARG1\", \"I-ARG1\", \"O\", \"B-V\", \"B-ARG2\", \"I-ARG2\", \"I-ARG2\", \"I-ARG2\", \"I-ARG2\", \"I-ARG2\", \"O\"]}, {\"verb\": \"shaped\", \"description\": \"There in his lapel , glistening in the late afternoon sunlight , was [ARG1: a hairpin] [V: shaped] [ARG2: like a butterfly] .\", \"tags\": [\"O\", \"O\", \"O\", \"O\", \"O\", \"O\", \"O\", \"O\", \"O\", \"O\", \"O\", \"O\", \"O\", \"B-ARG1\", \"I-ARG1\", \"B-V\", \"B-ARG2\", \"I-ARG2\", \"I-ARG2\", \"O\"]}], \"words\": [\"There\", \"in\", \"his\", \"lapel\", \",\", \"glistening\", \"in\", \"the\", \"late\", \"afternoon\", \"sunlight\", \",\", \"was\", \"a\", \"hairpin\", \"shaped\", \"like\", \"a\", \"butterfly\", \".\"]}\n",
            "\n"
          ],
          "name": "stdout"
        }
      ]
    },
    {
      "metadata": {
        "id": "m4L-3gko-H8p",
        "colab_type": "code",
        "colab": {
          "base_uri": "https://localhost:8080/",
          "height": 1360
        },
        "outputId": "7f201b31-cf82-48d3-dd1f-169d3eda68a6"
      },
      "cell_type": "code",
      "source": [
        "from allennlp.predictors.predictor import Predictor\n",
        "predictor = Predictor.from_path(\"https://s3-us-west-2.amazonaws.com/allennlp/models/srl-model-2018.05.25.tar.gz\")\n",
        "predictor.predict(\n",
        "  sentence=\"Did Uriah honestly think he could beat the game in under three hours?\"\n",
        ")"
      ],
      "execution_count": 9,
      "outputs": [
        {
          "output_type": "stream",
          "text": [
            "100%|██████████| 730942854/730942854 [05:42<00:00, 2133882.64B/s]\n"
          ],
          "name": "stderr"
        },
        {
          "output_type": "execute_result",
          "data": {
            "text/plain": [
              "{'verbs': [{'description': '[V: Did] Uriah honestly think he could beat the game in under three hours ?',\n",
              "   'tags': ['B-V',\n",
              "    'O',\n",
              "    'O',\n",
              "    'O',\n",
              "    'O',\n",
              "    'O',\n",
              "    'O',\n",
              "    'O',\n",
              "    'O',\n",
              "    'O',\n",
              "    'O',\n",
              "    'O',\n",
              "    'O',\n",
              "    'O'],\n",
              "   'verb': 'Did'},\n",
              "  {'description': 'Did [ARG0: Uriah] [ARGM-MNR: honestly] [V: think] [ARG1: he could beat the game in under three hours] ?',\n",
              "   'tags': ['O',\n",
              "    'B-ARG0',\n",
              "    'B-ARGM-MNR',\n",
              "    'B-V',\n",
              "    'B-ARG1',\n",
              "    'I-ARG1',\n",
              "    'I-ARG1',\n",
              "    'I-ARG1',\n",
              "    'I-ARG1',\n",
              "    'I-ARG1',\n",
              "    'I-ARG1',\n",
              "    'I-ARG1',\n",
              "    'I-ARG1',\n",
              "    'O'],\n",
              "   'verb': 'think'},\n",
              "  {'description': 'Did Uriah honestly think he [V: could] beat the game in under three hours ?',\n",
              "   'tags': ['O',\n",
              "    'O',\n",
              "    'O',\n",
              "    'O',\n",
              "    'O',\n",
              "    'B-V',\n",
              "    'O',\n",
              "    'O',\n",
              "    'O',\n",
              "    'O',\n",
              "    'O',\n",
              "    'O',\n",
              "    'O',\n",
              "    'O'],\n",
              "   'verb': 'could'},\n",
              "  {'description': 'Did Uriah honestly think [ARG0: he] [ARGM-MOD: could] [V: beat] [ARG1: the game] [ARGM-TMP: in under three hours] ?',\n",
              "   'tags': ['O',\n",
              "    'O',\n",
              "    'O',\n",
              "    'O',\n",
              "    'B-ARG0',\n",
              "    'B-ARGM-MOD',\n",
              "    'B-V',\n",
              "    'B-ARG1',\n",
              "    'I-ARG1',\n",
              "    'B-ARGM-TMP',\n",
              "    'I-ARGM-TMP',\n",
              "    'I-ARGM-TMP',\n",
              "    'I-ARGM-TMP',\n",
              "    'O'],\n",
              "   'verb': 'beat'}],\n",
              " 'words': ['Did',\n",
              "  'Uriah',\n",
              "  'honestly',\n",
              "  'think',\n",
              "  'he',\n",
              "  'could',\n",
              "  'beat',\n",
              "  'the',\n",
              "  'game',\n",
              "  'in',\n",
              "  'under',\n",
              "  'three',\n",
              "  'hours',\n",
              "  '?']}"
            ]
          },
          "metadata": {
            "tags": []
          },
          "execution_count": 9
        }
      ]
    },
    {
      "metadata": {
        "id": "EnCjoPheBJKF",
        "colab_type": "code",
        "colab": {}
      },
      "cell_type": "code",
      "source": [
        ""
      ],
      "execution_count": 0,
      "outputs": []
    }
  ]
}